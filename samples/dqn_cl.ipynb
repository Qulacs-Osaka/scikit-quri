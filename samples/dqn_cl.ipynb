{
 "cells": [
  {
   "cell_type": "code",
   "execution_count": 1,
   "metadata": {},
   "outputs": [],
   "source": [
    "from pathlib import Path\n",
    "import sys\n",
    "sys.path.append(str(Path().resolve().parent))\n",
    "import os"
   ]
  },
  {
   "cell_type": "code",
   "execution_count": 2,
   "metadata": {},
   "outputs": [],
   "source": [
    "import csv\n",
    "from typing import Tuple\n",
    "\n",
    "import numpy as np\n",
    "from qulacs import Observable\n",
    "from sklearn.metrics import f1_score\n",
    "from sklearn.model_selection import train_test_split\n",
    "\n",
    "from scikit_quri.circuit.pre_defined import create_dqn_cl, create_dqn_cl_no_cz\n",
    "from scikit_quri.circuit import LearningCircuit\n",
    "from scikit_quri.qnn.classifier import QNNClassifier\n",
    "from quri_parts.core.estimator.gradient import (\n",
    "    create_numerical_gradient_estimator,\n",
    "    create_parameter_shift_gradient_estimator)\n",
    "from quri_parts.qulacs.estimator import (\n",
    "    create_qulacs_vector_concurrent_estimator,\n",
    "    create_qulacs_vector_concurrent_parametric_estimator,\n",
    ")\n",
    "from quri_parts.algo.optimizer import Adam\n",
    "from quri_parts.core.operator import Operator, pauli_label\n",
    "# from scikit_quri.qnn.solver import Adam"
   ]
  },
  {
   "cell_type": "code",
   "execution_count": 3,
   "metadata": {},
   "outputs": [],
   "source": [
    "# Use wine dataset retrieved from: https://archive-beta.ics.uci.edu/ml/datasets/wine\n",
    "def load_dataset(\n",
    "    file_path: str, ignore_kind: int, test_ratio: float\n",
    ") -> Tuple[np.array, np.array, np.array, np.array]:\n",
    "    \"\"\"Load dataset from specified path.\n",
    "\n",
    "    Args:\n",
    "        file_path: File path from which data is loaded.\n",
    "        ignore_kind: The dataset expected to have 3 classes and we need 2 classes to test. So specify here which class to ignore in loading.\n",
    "    \"\"\"\n",
    "    x = []\n",
    "    y = []\n",
    "    with open(file_path) as f:\n",
    "        reader = csv.reader(f)\n",
    "        for row in reader:\n",
    "            kind = int(row[0])\n",
    "            if kind == ignore_kind:\n",
    "                continue\n",
    "            y.append(kind)\n",
    "            x.append([float(feature) for feature in row[1:]])\n",
    "\n",
    "    x_train, x_test, y_train, y_test = train_test_split(\n",
    "        x, y, test_size=test_ratio, shuffle=True\n",
    "    )\n",
    "\n",
    "    return x_train, x_test, y_train, y_test"
   ]
  },
  {
   "cell_type": "code",
   "execution_count": 4,
   "metadata": {},
   "outputs": [],
   "source": [
    "def create_classifier(n_features: int, circuit:LearningCircuit, locality:int):\n",
    "    adam = Adam()\n",
    "    estimator = create_qulacs_vector_concurrent_estimator()\n",
    "    gradient_estimator = create_numerical_gradient_estimator(create_qulacs_vector_concurrent_parametric_estimator(),delta=1e-3)\n",
    "    ops = []\n",
    "    for i in range(n_features):\n",
    "        if i < locality:\n",
    "            op = Operator({pauli_label(f\"Z {i}\"):1.0})\n",
    "        # else:\n",
    "        #     op = Operator({pauli_label(f\"I {i}\"):1.0}) \n",
    "        ops.append(op)\n",
    "    classifier = QNNClassifier(circuit,2,estimator,gradient_estimator,optimizer=adam,operator=ops)\n",
    "    return classifier\n"
   ]
  },
  {
   "cell_type": "code",
   "execution_count": null,
   "metadata": {},
   "outputs": [],
   "source": [
    "x_train, x_test, y_train, y_test = load_dataset(\"../datasets/wine.data\", 3, 0.5)\n",
    "for i in range(len(y_train)):\n",
    "    y_train[i] -= 1\n",
    "for i in range(len(y_test)):\n",
    "    y_test[i] -= 1\n",
    "from icecream import ic\n",
    "\n",
    "n_features = 13\n",
    "locality = 2\n",
    "maxiter = 5\n",
    "\n",
    "n_train = 10\n",
    "n_test = 10\n",
    "x_train = x_train[:n_train]\n",
    "y_train = y_train[:n_train]\n",
    "x_test = x_test[:n_test]\n",
    "y_test = y_test[:n_test]\n",
    "import cProfile\n",
    "profiler = cProfile.Profile()\n",
    "print(\"CL\")\n",
    "circuit = create_dqn_cl(n_features, 5, locality)\n",
    "classifier = create_classifier(n_features,circuit,locality)\n",
    "result_cl = []\n",
    "loop_size = 80\n",
    "for i in range(loop_size):\n",
    "    classifier.fit(np.array(x_train), np.array(y_train), maxiter)\n",
    "    y_pred = classifier.predict(np.array(x_test)).argmax(axis=1)\n",
    "    score = f1_score(y_test, y_pred, average=\"weighted\")\n",
    "    result_cl.append(score)\n",
    "    print(f\"iteration:{(i+1)*maxiter} score:{score}\")\n",
    "\n",
    "print(\"no CL\")\n",
    "circuit = create_dqn_cl_no_cz(n_features, 5)\n",
    "classifier = create_classifier(n_features,circuit, locality)\n",
    "result_no_cl = []\n",
    "for i in range(loop_size):\n",
    "    classifier.fit(np.array(x_train),np.array(y_train), maxiter)\n",
    "    y_pred = classifier.predict(np.array(x_test)).argmax(axis=1)\n",
    "    score = f1_score(y_test, y_pred, average=\"weighted\")\n",
    "    result_no_cl.append(score)\n",
    "    print(f\"iteration:{(i+1)*maxiter} score:{score}\")"
   ]
  },
  {
   "cell_type": "code",
   "execution_count": null,
   "metadata": {},
   "outputs": [],
   "source": [
    "import matplotlib.pyplot as plt\n",
    "\n",
    "plt.plot(np.arange(0, loop_size*maxiter, step=maxiter), np.array(result_cl).flatten(), label=\"CL\")\n",
    "plt.plot(np.arange(0, loop_size*maxiter, step=maxiter), np.array(result_no_cl).flatten(), label=\"no CL\")\n",
    "plt.xticks(np.arange(0, loop_size*maxiter, step=25))\n",
    "plt.xlabel(\"iteration\")\n",
    "plt.ylabel(\"score\")\n",
    "plt.legend()\n",
    "plt.show()"
   ]
  }
 ],
 "metadata": {
  "kernelspec": {
   "display_name": "pyenv",
   "language": "python",
   "name": "python3"
  },
  "language_info": {
   "codemirror_mode": {
    "name": "ipython",
    "version": 3
   },
   "file_extension": ".py",
   "mimetype": "text/x-python",
   "name": "python",
   "nbconvert_exporter": "python",
   "pygments_lexer": "ipython3",
   "version": "3.11.9"
  }
 },
 "nbformat": 4,
 "nbformat_minor": 2
}
