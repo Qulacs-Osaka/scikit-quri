{
 "cells": [
  {
   "cell_type": "code",
   "execution_count": 24,
   "metadata": {},
   "outputs": [],
   "source": [
    "from pathlib import Path\n",
    "import sys\n",
    "\n",
    "sys.path.append(str(Path().resolve().parent))\n",
    "import os\n",
    "\n",
    "os.environ[\"OMP_NUM_THREADS\"] = \"1\""
   ]
  },
  {
   "cell_type": "code",
   "execution_count": 25,
   "metadata": {},
   "outputs": [],
   "source": [
    "import numpy as np\n",
    "import pandas as pd\n",
    "from sklearn import datasets\n",
    "from sklearn.model_selection import train_test_split\n",
    "\n",
    "iris = datasets.load_iris()\n",
    "df = pd.DataFrame(iris.data, columns=iris.feature_names)\n",
    "x = df.loc[:, [\"petal length (cm)\", \"petal width (cm)\"]]\n",
    "x_train, x_test, y_train, y_test = train_test_split(x, iris.target, test_size=0.25, random_state=0)\n",
    "\n",
    "x_train = x_train.to_numpy()\n",
    "\n",
    "from quri_parts.circuit.utils.circuit_drawer import draw_circuit\n",
    "import matplotlib.pyplot as plt\n",
    "\n",
    "n_qubits = 5\n",
    "num_class = 3"
   ]
  },
  {
   "cell_type": "code",
   "execution_count": null,
   "metadata": {},
   "outputs": [],
   "source": [
    "from scikit_quri.circuit import create_qcl_ansatz\n",
    "\n",
    "circuit = create_qcl_ansatz(n_qubits, 3, 1.0)\n",
    "\n",
    "theta = [np.random.rand() for _ in range(circuit.learning_params_count)]\n",
    "# circuitとparamsをscaluqへ\n",
    "(circuit, params) = circuit.to_batched(x_train, theta)"
   ]
  }
 ],
 "metadata": {
  "kernelspec": {
   "display_name": "pyenv",
   "language": "python",
   "name": "python3"
  },
  "language_info": {
   "codemirror_mode": {
    "name": "ipython",
    "version": 3
   },
   "file_extension": ".py",
   "mimetype": "text/x-python",
   "name": "python",
   "nbconvert_exporter": "python",
   "pygments_lexer": "ipython3",
   "version": "3.11.9"
  }
 },
 "nbformat": 4,
 "nbformat_minor": 2
}
