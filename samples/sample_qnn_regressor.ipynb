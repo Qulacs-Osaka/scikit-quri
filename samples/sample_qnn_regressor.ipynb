{
 "cells": [
  {
   "cell_type": "code",
   "execution_count": 1,
   "metadata": {},
   "outputs": [],
   "source": [
    "# import better_exceptions\n",
    "from scikit_quri.qnn.regressor import QNNRegressor\n",
    "import numpy as np\n",
    "from numpy.random import default_rng\n",
    "\n",
    "from quri_parts.core.operator import Operator, pauli_label\n",
    "from quri_parts.core.estimator.gradient import create_numerical_gradient_estimator\n",
    "from quri_parts.qulacs.estimator import (\n",
    "    create_qulacs_vector_concurrent_parametric_estimator,\n",
    "    create_qulacs_vector_concurrent_estimator,\n",
    ")\n",
    "from quri_parts.algo.optimizer import Adam\n",
    "from scikit_quri.circuit.pre_defined import create_qcl_ansatz\n",
    "\n",
    "\n",
    "def generate_noisy_sine(x_min, x_max, num_x):\n",
    "    rng = default_rng(0)\n",
    "    x_train = [[rng.uniform(x_min, x_max)] for _ in range(num_x)]\n",
    "    y_train = [np.sin(np.pi * x[0]) for x in x_train]\n",
    "    mag_noise = 0.01\n",
    "    y_train += mag_noise * rng.random(num_x)\n",
    "    # return np.array(x_train), np.array(y_train)\n",
    "    return np.array(x_train).flatten(), np.array(y_train)\n",
    "\n",
    "\n",
    "x_train, y_train = generate_noisy_sine(-1.0, 1.0, 80)\n",
    "x_test, y_test = generate_noisy_sine(-1.0, 1.0, 80)"
   ]
  },
  {
   "cell_type": "code",
   "execution_count": 2,
   "metadata": {},
   "outputs": [
    {
     "name": "stdout",
     "output_type": "stream",
     "text": [
      "   ___     ___     ___     ___     ___     ___     ___     ___     ___     ___  \n",
      "  |PRY|   |PRZ|   |Mat|   |PRX|   |PRZ|   |PRX|   |Mat|   |PRX|   |PRZ|   |PRX| \n",
      "--|0  |---|1  |---|10 |---|11 |---|12 |---|13 |---|26 |---|27 |---|28 |---|29 |-\n",
      "  |___|   |___|   |   |   |___|   |___|   |___|   |   |   |___|   |___|   |___| \n",
      "   ___     ___    |   |    ___     ___     ___    |   |    ___     ___     ___  \n",
      "  |PRY|   |PRZ|   |   |   |PRX|   |PRZ|   |PRX|   |   |   |PRX|   |PRZ|   |PRX| \n",
      "--|2  |---|3  |---|   |---|14 |---|15 |---|16 |---|   |---|30 |---|31 |---|32 |-\n",
      "  |___|   |___|   |   |   |___|   |___|   |___|   |   |   |___|   |___|   |___| \n",
      "   ___     ___    |   |    ___     ___     ___    |   |    ___     ___     ___  \n",
      "  |PRY|   |PRZ|   |   |   |PRX|   |PRZ|   |PRX|   |   |   |PRX|   |PRZ|   |PRX| \n",
      "--|4  |---|5  |---|   |---|17 |---|18 |---|19 |---|   |---|33 |---|34 |---|35 |-\n",
      "  |___|   |___|   |   |   |___|   |___|   |___|   |   |   |___|   |___|   |___| \n",
      "   ___     ___    |   |    ___     ___     ___    |   |    ___     ___     ___  \n",
      "  |PRY|   |PRZ|   |   |   |PRX|   |PRZ|   |PRX|   |   |   |PRX|   |PRZ|   |PRX| \n",
      "--|6  |---|7  |---|   |---|20 |---|21 |---|22 |---|   |---|36 |---|37 |---|38 |-\n",
      "  |___|   |___|   |   |   |___|   |___|   |___|   |   |   |___|   |___|   |___| \n",
      "   ___     ___    |   |    ___     ___     ___    |   |    ___     ___     ___  \n",
      "  |PRY|   |PRZ|   |   |   |PRX|   |PRZ|   |PRX|   |   |   |PRX|   |PRZ|   |PRX| \n",
      "--|8  |---|9  |---|   |---|23 |---|24 |---|25 |---|   |---|39 |---|40 |---|41 |-\n",
      "  |___|   |___|   |___|   |___|   |___|   |___|   |___|   |___|   |___|   |___| \n",
      "\n",
      "\n",
      "================================================================================\n",
      "\n",
      "   ___     ___     ___     ___     ___     ___     ___     ___     ___     ___  \n",
      "  |Mat|   |PRX|   |PRZ|   |PRX|   |Mat|   |PRX|   |PRZ|   |PRX|   |Mat|   |PRX| \n",
      "--|42 |---|43 |---|44 |---|45 |---|58 |---|59 |---|60 |---|61 |---|74 |---|75 |-\n",
      "  |   |   |___|   |___|   |___|   |   |   |___|   |___|   |___|   |   |   |___| \n",
      "  |   |    ___     ___     ___    |   |    ___     ___     ___    |   |    ___  \n",
      "  |   |   |PRX|   |PRZ|   |PRX|   |   |   |PRX|   |PRZ|   |PRX|   |   |   |PRX| \n",
      "--|   |---|46 |---|47 |---|48 |---|   |---|62 |---|63 |---|64 |---|   |---|78 |-\n",
      "  |   |   |___|   |___|   |___|   |   |   |___|   |___|   |___|   |   |   |___| \n",
      "  |   |    ___     ___     ___    |   |    ___     ___     ___    |   |    ___  \n",
      "  |   |   |PRX|   |PRZ|   |PRX|   |   |   |PRX|   |PRZ|   |PRX|   |   |   |PRX| \n",
      "--|   |---|49 |---|50 |---|51 |---|   |---|65 |---|66 |---|67 |---|   |---|81 |-\n",
      "  |   |   |___|   |___|   |___|   |   |   |___|   |___|   |___|   |   |   |___| \n",
      "  |   |    ___     ___     ___    |   |    ___     ___     ___    |   |    ___  \n",
      "  |   |   |PRX|   |PRZ|   |PRX|   |   |   |PRX|   |PRZ|   |PRX|   |   |   |PRX| \n",
      "--|   |---|52 |---|53 |---|54 |---|   |---|68 |---|69 |---|70 |---|   |---|84 |-\n",
      "  |   |   |___|   |___|   |___|   |   |   |___|   |___|   |___|   |   |   |___| \n",
      "  |   |    ___     ___     ___    |   |    ___     ___     ___    |   |    ___  \n",
      "  |   |   |PRX|   |PRZ|   |PRX|   |   |   |PRX|   |PRZ|   |PRX|   |   |   |PRX| \n",
      "--|   |---|55 |---|56 |---|57 |---|   |---|71 |---|72 |---|73 |---|   |---|87 |-\n",
      "  |___|   |___|   |___|   |___|   |___|   |___|   |___|   |___|   |___|   |___| \n",
      "\n",
      "\n",
      "================================================================================\n",
      "\n",
      "   ___     ___     ___     ___     ___     ___  \n",
      "  |PRZ|   |PRX|   |Mat|   |PRX|   |PRZ|   |PRX| \n",
      "--|76 |---|77 |---|90 |---|91 |---|92 |---|93 |-\n",
      "  |___|   |___|   |   |   |___|   |___|   |___| \n",
      "   ___     ___    |   |    ___     ___     ___  \n",
      "  |PRZ|   |PRX|   |   |   |PRX|   |PRZ|   |PRX| \n",
      "--|79 |---|80 |---|   |---|94 |---|95 |---|96 |-\n",
      "  |___|   |___|   |   |   |___|   |___|   |___| \n",
      "   ___     ___    |   |    ___     ___     ___  \n",
      "  |PRZ|   |PRX|   |   |   |PRX|   |PRZ|   |PRX| \n",
      "--|82 |---|83 |---|   |---|97 |---|98 |---|99 |-\n",
      "  |___|   |___|   |   |   |___|   |___|   |___| \n",
      "   ___     ___    |   |    ___     ___     ___  \n",
      "  |PRZ|   |PRX|   |   |   |PRX|   |PRZ|   |PRX| \n",
      "--|85 |---|86 |---|   |---|100|---|101|---|102|-\n",
      "  |___|   |___|   |   |   |___|   |___|   |___| \n",
      "   ___     ___    |   |    ___     ___     ___  \n",
      "  |PRZ|   |PRX|   |   |   |PRX|   |PRZ|   |PRX| \n",
      "--|88 |---|89 |---|   |---|103|---|104|---|105|-\n",
      "  |___|   |___|   |___|   |___|   |___|   |___| \n"
     ]
    }
   ],
   "source": [
    "from quri_parts.circuit.utils.circuit_drawer import draw_circuit\n",
    "import matplotlib.pyplot as plt\n",
    "\n",
    "n_qubits = 5\n",
    "depth = 6\n",
    "n_outputs = 1\n",
    "parametric_circuit = create_qcl_ansatz(n_qubits, depth, 0.5, 0)\n",
    "\n",
    "draw_circuit(parametric_circuit.circuit)\n",
    "\n",
    "estimator = create_qulacs_vector_concurrent_estimator()\n",
    "gradient_estimator = create_numerical_gradient_estimator(\n",
    "    create_qulacs_vector_concurrent_parametric_estimator(), delta=1e-10\n",
    ")\n",
    "adam = Adam()"
   ]
  },
  {
   "cell_type": "code",
   "execution_count": 3,
   "metadata": {},
   "outputs": [],
   "source": [
    "init_params = 2 * np.pi * np.random.rand(parametric_circuit.learning_params_count)"
   ]
  },
  {
   "cell_type": "code",
   "execution_count": 4,
   "metadata": {},
   "outputs": [
    {
     "name": "stdout",
     "output_type": "stream",
     "text": [
      "init_params=array([0.89882651, 3.44343701, 4.33959656, 4.51809347, 0.60712333,\n",
      "       0.38274356, 0.31513836, 4.92962224, 3.22983588, 4.65059944,\n",
      "       1.65982456, 0.69269355, 3.55512151, 5.77900608, 2.40437008,\n",
      "       3.60322662, 5.51361656, 0.24980597, 2.72992944, 5.48338721,\n",
      "       2.10244211, 1.78021283, 0.86169519, 0.83632952, 3.70958844,\n",
      "       4.83424477, 5.00970796, 2.28060426, 4.81742329, 3.830731  ,\n",
      "       3.50380798, 4.9639592 , 5.30714045, 2.29449842, 1.8105474 ,\n",
      "       3.71190583, 0.95439576, 5.82517657, 4.299903  , 4.7691804 ,\n",
      "       3.67517928, 0.67554989, 2.80463186, 1.64145405, 4.40469602,\n",
      "       2.46937287, 0.91182651, 4.88728333, 1.27887425, 4.0975892 ,\n",
      "       3.0014668 , 0.60659633, 4.86790809, 3.82081355, 1.36039939,\n",
      "       2.00913776, 5.53580609, 4.8075766 , 4.75504669, 0.95418207,\n",
      "       5.24224855, 3.38083282, 4.99554858, 5.80023979, 1.81127592,\n",
      "       0.12226941, 4.51554357, 1.30314322, 1.56559946, 2.29823764,\n",
      "       3.79239149, 0.52400853, 4.049228  , 5.80783966, 4.55836891,\n",
      "       3.29447725, 2.87757303, 4.89856689, 4.2087072 , 4.54276021,\n",
      "       6.27363943, 4.69722485, 2.60524044, 3.93539389, 1.74307255,\n",
      "       5.42756   , 4.63331571, 6.19769545, 5.06375328, 0.44484041])\n",
      " iter:29/30 cost:0.0036211890406010554\n",
      "optimizer_state.cost=0.0036211890406010554\n"
     ]
    }
   ],
   "source": [
    "qnn = QNNRegressor(n_qubits, parametric_circuit, estimator, gradient_estimator, adam)\n",
    "\n",
    "qnn.fit(x_train, y_train, maxiter=30)"
   ]
  },
  {
   "cell_type": "code",
   "execution_count": 5,
   "metadata": {},
   "outputs": [
    {
     "name": "stdout",
     "output_type": "stream",
     "text": [
      "loss=0.007345039320561264\n"
     ]
    },
    {
     "data": {
      "image/png": "[encoded data removed]",
      "text/plain": [
       "<Figure size 500x500 with 1 Axes>"
      ]
     },
     "metadata": {},
     "output_type": "display_data"
    }
   ],
   "source": [
    "y_pred = qnn.predict(x_test)\n",
    "y_test = y_test.reshape(-1, 1)\n",
    "plt.figure(figsize=(5, 5))\n",
    "\n",
    "plt.scatter(np.sort(x_test.flatten()), y_test[np.argsort(x_test.flatten())], label=\"Test\")\n",
    "\n",
    "x_true = np.linspace(-1, 1, 100)\n",
    "y_true = np.sin(np.pi * x_true)\n",
    "plt.plot(x_true, y_true, label=\"True\")\n",
    "plt.plot(np.sort(x_test.flatten()), y_pred[np.argsort(x_test.flatten())], label=\"Prediction\")\n",
    "plt.legend()\n",
    "\n",
    "from sklearn.metrics import mean_squared_error\n",
    "\n",
    "loss = mean_squared_error(y_test, y_pred)\n",
    "print(f\"{loss=}\")\n",
    "plt.show()"
   ]
  }
 ],
 "metadata": {
  "kernelspec": {
   "display_name": "pyenv",
   "language": "python",
   "name": "python3"
  },
  "language_info": {
   "codemirror_mode": {
    "name": "ipython",
    "version": 3
   },
   "file_extension": ".py",
   "mimetype": "text/x-python",
   "name": "python",
   "nbconvert_exporter": "python",
   "pygments_lexer": "ipython3",
   "version": "3.11.9"
  }
 },
 "nbformat": 4,
 "nbformat_minor": 2
}
