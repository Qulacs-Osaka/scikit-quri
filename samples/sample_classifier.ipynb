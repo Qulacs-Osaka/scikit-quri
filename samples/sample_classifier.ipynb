{
 "cells": [
  {
   "cell_type": "code",
   "execution_count": 1,
   "metadata": {},
   "outputs": [],
   "source": [
    "from pathlib import Path\n",
    "import sys\n",
    "\n",
    "sys.path.append(str(Path().resolve().parent))\n",
    "import os\n",
    "\n",
    "os.environ[\"OMP_NUM_THREADS\"] = \"1\""
   ]
  },
  {
   "cell_type": "code",
   "execution_count": 2,
   "metadata": {},
   "outputs": [],
   "source": [
    "from pathlib import Path\n",
    "import numpy as np\n",
    "from quri_parts.core.estimator.gradient import (\n",
    "    create_numerical_gradient_estimator,\n",
    ")\n",
    "from quri_parts.qulacs.estimator import (\n",
    "    create_qulacs_vector_concurrent_estimator,\n",
    "    create_qulacs_vector_concurrent_parametric_estimator,\n",
    ")\n",
    "from quri_parts.algo.optimizer import Adam"
   ]
  },
  {
   "cell_type": "code",
   "execution_count": 3,
   "metadata": {},
   "outputs": [],
   "source": [
    "import pandas as pd\n",
    "from sklearn import datasets\n",
    "from sklearn.model_selection import train_test_split\n",
    "\n",
    "iris = datasets.load_iris()\n",
    "df = pd.DataFrame(iris.data, columns=iris.feature_names)\n",
    "x = df.loc[:, [\"petal length (cm)\", \"petal width (cm)\"]]\n",
    "x_train, x_test, y_train, y_test = train_test_split(x, iris.target, test_size=0.25, random_state=0)\n",
    "\n",
    "x_train = x_train.to_numpy()\n",
    "\n",
    "from quri_parts.circuit.utils.circuit_drawer import draw_circuit\n",
    "import matplotlib.pyplot as plt\n",
    "\n",
    "n_qubits = 5\n",
    "num_class = 3"
   ]
  },
  {
   "cell_type": "code",
   "execution_count": 4,
   "metadata": {},
   "outputs": [
    {
     "name": "stdout",
     "output_type": "stream",
     "text": [
      "   ___     ___     ___     ___     ___     ___     ___     ___     ___     ___  \n",
      "  |PRY|   |PRZ|   |Mat|   |PRX|   |PRZ|   |PRX|   |Mat|   |PRX|   |PRZ|   |PRX| \n",
      "--|0  |---|1  |---|10 |---|11 |---|12 |---|13 |---|26 |---|27 |---|28 |---|29 |-\n",
      "  |___|   |___|   |   |   |___|   |___|   |___|   |   |   |___|   |___|   |___| \n",
      "   ___     ___    |   |    ___     ___     ___    |   |    ___     ___     ___  \n",
      "  |PRY|   |PRZ|   |   |   |PRX|   |PRZ|   |PRX|   |   |   |PRX|   |PRZ|   |PRX| \n",
      "--|2  |---|3  |---|   |---|14 |---|15 |---|16 |---|   |---|30 |---|31 |---|32 |-\n",
      "  |___|   |___|   |   |   |___|   |___|   |___|   |   |   |___|   |___|   |___| \n",
      "   ___     ___    |   |    ___     ___     ___    |   |    ___     ___     ___  \n",
      "  |PRY|   |PRZ|   |   |   |PRX|   |PRZ|   |PRX|   |   |   |PRX|   |PRZ|   |PRX| \n",
      "--|4  |---|5  |---|   |---|17 |---|18 |---|19 |---|   |---|33 |---|34 |---|35 |-\n",
      "  |___|   |___|   |   |   |___|   |___|   |___|   |   |   |___|   |___|   |___| \n",
      "   ___     ___    |   |    ___     ___     ___    |   |    ___     ___     ___  \n",
      "  |PRY|   |PRZ|   |   |   |PRX|   |PRZ|   |PRX|   |   |   |PRX|   |PRZ|   |PRX| \n",
      "--|6  |---|7  |---|   |---|20 |---|21 |---|22 |---|   |---|36 |---|37 |---|38 |-\n",
      "  |___|   |___|   |   |   |___|   |___|   |___|   |   |   |___|   |___|   |___| \n",
      "   ___     ___    |   |    ___     ___     ___    |   |    ___     ___     ___  \n",
      "  |PRY|   |PRZ|   |   |   |PRX|   |PRZ|   |PRX|   |   |   |PRX|   |PRZ|   |PRX| \n",
      "--|8  |---|9  |---|   |---|23 |---|24 |---|25 |---|   |---|39 |---|40 |---|41 |-\n",
      "  |___|   |___|   |___|   |___|   |___|   |___|   |___|   |___|   |___|   |___| \n",
      "\n",
      "\n",
      "================================================================================\n",
      "\n",
      "   ___     ___     ___     ___  \n",
      "  |Mat|   |PRX|   |PRZ|   |PRX| \n",
      "--|42 |---|43 |---|44 |---|45 |-\n",
      "  |   |   |___|   |___|   |___| \n",
      "  |   |    ___     ___     ___  \n",
      "  |   |   |PRX|   |PRZ|   |PRX| \n",
      "--|   |---|46 |---|47 |---|48 |-\n",
      "  |   |   |___|   |___|   |___| \n",
      "  |   |    ___     ___     ___  \n",
      "  |   |   |PRX|   |PRZ|   |PRX| \n",
      "--|   |---|49 |---|50 |---|51 |-\n",
      "  |   |   |___|   |___|   |___| \n",
      "  |   |    ___     ___     ___  \n",
      "  |   |   |PRX|   |PRZ|   |PRX| \n",
      "--|   |---|52 |---|53 |---|54 |-\n",
      "  |   |   |___|   |___|   |___| \n",
      "  |   |    ___     ___     ___  \n",
      "  |   |   |PRX|   |PRZ|   |PRX| \n",
      "--|   |---|55 |---|56 |---|57 |-\n",
      "  |___|   |___|   |___|   |___| \n",
      "55\n"
     ]
    }
   ],
   "source": [
    "from scikit_quri.circuit import create_qcl_ansatz\n",
    "\n",
    "circuit = create_qcl_ansatz(n_qubits, 3, 1.0)\n",
    "draw_circuit(circuit.circuit)\n",
    "print(circuit.circuit.parameter_count)"
   ]
  },
  {
   "cell_type": "code",
   "execution_count": 5,
   "metadata": {},
   "outputs": [],
   "source": [
    "from quri_parts.core.state import quantum_state\n",
    "\n",
    "param_circuit_state = quantum_state(n_qubits=5, circuit=circuit.circuit)\n",
    "init_params = [np.random.rand() for _ in range(circuit.learning_params_count)]\n",
    "params = circuit.generate_bound_params(x_train[0], init_params)\n",
    "circuit_state = param_circuit_state.bind_parameters(params)\n",
    "\n",
    "from quri_parts.qulacs.estimator import create_qulacs_vector_estimator\n",
    "from quri_parts.core.operator import Operator, pauli_label\n",
    "\n",
    "op = Operator({pauli_label(\"Z0\"): 1.0})\n",
    "estimator = create_qulacs_vector_concurrent_estimator()"
   ]
  },
  {
   "cell_type": "code",
   "execution_count": 6,
   "metadata": {},
   "outputs": [],
   "source": [
    "from scikit_quri.qnn.classifier import QNNClassifier\n",
    "\n",
    "ops = []\n",
    "for i in range(num_class):\n",
    "    op = Operator({pauli_label(f\"Z {i}\"): 1.0})\n",
    "    ops.append(op)\n",
    "\n",
    "adam = Adam()\n",
    "estimator = create_qulacs_vector_concurrent_estimator()\n",
    "gradient_estimator = create_numerical_gradient_estimator(\n",
    "    create_qulacs_vector_concurrent_parametric_estimator(), delta=1e-10\n",
    ")\n",
    "qnn = QNNClassifier(circuit, num_class, estimator, gradient_estimator, adam, ops)"
   ]
  },
  {
   "cell_type": "code",
   "execution_count": 7,
   "metadata": {},
   "outputs": [
    {
     "name": "stdout",
     "output_type": "stream",
     "text": [
      " iter:49/50 cost:optimizer_state.cost=0.37209465906319267\n"
     ]
    }
   ],
   "source": [
    "qnn.fit(x_train, y_train, maxiter=50)"
   ]
  },
  {
   "cell_type": "code",
   "execution_count": 8,
   "metadata": {},
   "outputs": [
    {
     "name": "stderr",
     "output_type": "stream",
     "text": [
      "c:\\Users\\kazum\\Documents\\GitHub\\scikit-quri\\pyenv\\Lib\\site-packages\\sklearn\\base.py:486: UserWarning: X has feature names, but MinMaxScaler was fitted without feature names\n",
      "  warnings.warn(\n"
     ]
    },
    {
     "name": "stdout",
     "output_type": "stream",
     "text": [
      "0.41732034992947087\n"
     ]
    },
    {
     "data": {
      "image/png": "[encoded data removed]",
      "text/plain": [
       "<Figure size 640x480 with 2 Axes>"
      ]
     },
     "metadata": {},
     "output_type": "display_data"
    }
   ],
   "source": [
    "y_pred = qnn.predict(x_test)\n",
    "from scipy.special import softmax\n",
    "from sklearn.metrics import log_loss, confusion_matrix\n",
    "import seaborn as sns\n",
    "\n",
    "y_pred_sm = softmax(y_pred, axis=1)\n",
    "log = log_loss(y_test, y_pred_sm)\n",
    "cm = confusion_matrix(y_test, y_pred.argmax(axis=1))\n",
    "# log = log_loss(y_test,y_pred)\n",
    "sns.heatmap(cm, annot=True)\n",
    "print(log)"
   ]
  }
 ],
 "metadata": {
  "kernelspec": {
   "display_name": "pyenv",
   "language": "python",
   "name": "python3"
  },
  "language_info": {
   "codemirror_mode": {
    "name": "ipython",
    "version": 3
   },
   "file_extension": ".py",
   "mimetype": "text/x-python",
   "name": "python",
   "nbconvert_exporter": "python",
   "pygments_lexer": "ipython3",
   "version": "3.11.9"
  }
 },
 "nbformat": 4,
 "nbformat_minor": 2
}
