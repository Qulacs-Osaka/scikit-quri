{
 "cells": [
  {
   "cell_type": "code",
   "execution_count": 4,
   "metadata": {},
   "outputs": [],
   "source": [
    "from pathlib import Path\n",
    "import sys\n",
    "sys.path.append(str(Path().resolve().parent))\n",
    "\n",
    "# import better_exceptions\n",
    "from scikit_quri.qnn.regressor import QNNRegressor\n",
    "import numpy as np\n",
    "from numpy.random import default_rng\n",
    "\n",
    "from quri_parts.core.operator import Operator, pauli_label\n",
    "from quri_parts.core.estimator.gradient import (\n",
    "    create_numerical_gradient_estimator)\n",
    "from quri_parts.qulacs.estimator import (\n",
    "    create_qulacs_vector_concurrent_parametric_estimator,\n",
    "    create_qulacs_vector_concurrent_estimator,\n",
    ")\n",
    "from quri_parts.algo.optimizer import Adam\n",
    "from scikit_quri.circuit.pre_defined import create_qcl_ansatz\n",
    "\n",
    "def generate_noisy_sine(x_min, x_max, num_x):\n",
    "    rng = default_rng(0)\n",
    "    x_train = [[rng.uniform(x_min, x_max)] for _ in range(num_x)]\n",
    "    y_train = [np.sin(np.pi * x[0]) for x in x_train]\n",
    "    mag_noise = 0.01\n",
    "    y_train += mag_noise * rng.random(num_x)\n",
    "    # return np.array(x_train), np.array(y_train)\n",
    "    return np.array(x_train).flatten(), np.array(y_train)\n",
    "\n",
    "x_train,y_train = generate_noisy_sine(-1.,1.,80)\n",
    "x_test,y_test = generate_noisy_sine(-1.,1.,80)"
   ]
  },
  {
   "cell_type": "code",
   "execution_count": 5,
   "metadata": {},
   "outputs": [
    {
     "name": "stdout",
     "output_type": "stream",
     "text": [
      "   ___     ___     ___     ___     ___     ___     ___     ___     ___     ___  \n",
      "  |PRY|   |PRZ|   |Mat|   |PRX|   |PRZ|   |PRX|   |Mat|   |PRX|   |PRZ|   |PRX| \n",
      "--|0  |---|1  |---|10 |---|11 |---|12 |---|13 |---|26 |---|27 |---|28 |---|29 |-\n",
      "  |___|   |___|   |   |   |___|   |___|   |___|   |   |   |___|   |___|   |___| \n",
      "   ___     ___    |   |    ___     ___     ___    |   |    ___     ___     ___  \n",
      "  |PRY|   |PRZ|   |   |   |PRX|   |PRZ|   |PRX|   |   |   |PRX|   |PRZ|   |PRX| \n",
      "--|2  |---|3  |---|   |---|14 |---|15 |---|16 |---|   |---|30 |---|31 |---|32 |-\n",
      "  |___|   |___|   |   |   |___|   |___|   |___|   |   |   |___|   |___|   |___| \n",
      "   ___     ___    |   |    ___     ___     ___    |   |    ___     ___     ___  \n",
      "  |PRY|   |PRZ|   |   |   |PRX|   |PRZ|   |PRX|   |   |   |PRX|   |PRZ|   |PRX| \n",
      "--|4  |---|5  |---|   |---|17 |---|18 |---|19 |---|   |---|33 |---|34 |---|35 |-\n",
      "  |___|   |___|   |   |   |___|   |___|   |___|   |   |   |___|   |___|   |___| \n",
      "   ___     ___    |   |    ___     ___     ___    |   |    ___     ___     ___  \n",
      "  |PRY|   |PRZ|   |   |   |PRX|   |PRZ|   |PRX|   |   |   |PRX|   |PRZ|   |PRX| \n",
      "--|6  |---|7  |---|   |---|20 |---|21 |---|22 |---|   |---|36 |---|37 |---|38 |-\n",
      "  |___|   |___|   |   |   |___|   |___|   |___|   |   |   |___|   |___|   |___| \n",
      "   ___     ___    |   |    ___     ___     ___    |   |    ___     ___     ___  \n",
      "  |PRY|   |PRZ|   |   |   |PRX|   |PRZ|   |PRX|   |   |   |PRX|   |PRZ|   |PRX| \n",
      "--|8  |---|9  |---|   |---|23 |---|24 |---|25 |---|   |---|39 |---|40 |---|41 |-\n",
      "  |___|   |___|   |___|   |___|   |___|   |___|   |___|   |___|   |___|   |___| \n",
      "\n",
      "\n",
      "================================================================================\n",
      "\n",
      "   ___     ___     ___     ___     ___     ___     ___     ___     ___     ___  \n",
      "  |Mat|   |PRX|   |PRZ|   |PRX|   |Mat|   |PRX|   |PRZ|   |PRX|   |Mat|   |PRX| \n",
      "--|42 |---|43 |---|44 |---|45 |---|58 |---|59 |---|60 |---|61 |---|74 |---|75 |-\n",
      "  |   |   |___|   |___|   |___|   |   |   |___|   |___|   |___|   |   |   |___| \n",
      "  |   |    ___     ___     ___    |   |    ___     ___     ___    |   |    ___  \n",
      "  |   |   |PRX|   |PRZ|   |PRX|   |   |   |PRX|   |PRZ|   |PRX|   |   |   |PRX| \n",
      "--|   |---|46 |---|47 |---|48 |---|   |---|62 |---|63 |---|64 |---|   |---|78 |-\n",
      "  |   |   |___|   |___|   |___|   |   |   |___|   |___|   |___|   |   |   |___| \n",
      "  |   |    ___     ___     ___    |   |    ___     ___     ___    |   |    ___  \n",
      "  |   |   |PRX|   |PRZ|   |PRX|   |   |   |PRX|   |PRZ|   |PRX|   |   |   |PRX| \n",
      "--|   |---|49 |---|50 |---|51 |---|   |---|65 |---|66 |---|67 |---|   |---|81 |-\n",
      "  |   |   |___|   |___|   |___|   |   |   |___|   |___|   |___|   |   |   |___| \n",
      "  |   |    ___     ___     ___    |   |    ___     ___     ___    |   |    ___  \n",
      "  |   |   |PRX|   |PRZ|   |PRX|   |   |   |PRX|   |PRZ|   |PRX|   |   |   |PRX| \n",
      "--|   |---|52 |---|53 |---|54 |---|   |---|68 |---|69 |---|70 |---|   |---|84 |-\n",
      "  |   |   |___|   |___|   |___|   |   |   |___|   |___|   |___|   |   |   |___| \n",
      "  |   |    ___     ___     ___    |   |    ___     ___     ___    |   |    ___  \n",
      "  |   |   |PRX|   |PRZ|   |PRX|   |   |   |PRX|   |PRZ|   |PRX|   |   |   |PRX| \n",
      "--|   |---|55 |---|56 |---|57 |---|   |---|71 |---|72 |---|73 |---|   |---|87 |-\n",
      "  |___|   |___|   |___|   |___|   |___|   |___|   |___|   |___|   |___|   |___| \n",
      "\n",
      "\n",
      "================================================================================\n",
      "\n",
      "   ___     ___     ___     ___     ___     ___  \n",
      "  |PRZ|   |PRX|   |Mat|   |PRX|   |PRZ|   |PRX| \n",
      "--|76 |---|77 |---|90 |---|91 |---|92 |---|93 |-\n",
      "  |___|   |___|   |   |   |___|   |___|   |___| \n",
      "   ___     ___    |   |    ___     ___     ___  \n",
      "  |PRZ|   |PRX|   |   |   |PRX|   |PRZ|   |PRX| \n",
      "--|79 |---|80 |---|   |---|94 |---|95 |---|96 |-\n",
      "  |___|   |___|   |   |   |___|   |___|   |___| \n",
      "   ___     ___    |   |    ___     ___     ___  \n",
      "  |PRZ|   |PRX|   |   |   |PRX|   |PRZ|   |PRX| \n",
      "--|82 |---|83 |---|   |---|97 |---|98 |---|99 |-\n",
      "  |___|   |___|   |   |   |___|   |___|   |___| \n",
      "   ___     ___    |   |    ___     ___     ___  \n",
      "  |PRZ|   |PRX|   |   |   |PRX|   |PRZ|   |PRX| \n",
      "--|85 |---|86 |---|   |---|100|---|101|---|102|-\n",
      "  |___|   |___|   |   |   |___|   |___|   |___| \n",
      "   ___     ___    |   |    ___     ___     ___  \n",
      "  |PRZ|   |PRX|   |   |   |PRX|   |PRZ|   |PRX| \n",
      "--|88 |---|89 |---|   |---|103|---|104|---|105|-\n",
      "  |___|   |___|   |___|   |___|   |___|   |___| \n"
     ]
    }
   ],
   "source": [
    "from quri_parts.circuit.utils.circuit_drawer import draw_circuit\n",
    "import matplotlib.pyplot as plt\n",
    "n_qubits = 5\n",
    "depth = 6\n",
    "n_outputs = 1\n",
    "parametric_circuit = create_qcl_ansatz(n_qubits,depth,0.5,0)\n",
    "\n",
    "op = Operator()\n",
    "for i in range(n_outputs):\n",
    "    op.add_term(pauli_label(f\"Z {i}\"),1.0)\n",
    "draw_circuit(parametric_circuit.circuit)\n",
    "\n",
    "estimator = create_qulacs_vector_concurrent_estimator()\n",
    "gradient_estimator = create_numerical_gradient_estimator(create_qulacs_vector_concurrent_parametric_estimator(),delta=1e-10)\n",
    "adam = Adam()"
   ]
  },
  {
   "cell_type": "code",
   "execution_count": 6,
   "metadata": {},
   "outputs": [],
   "source": [
    "init_params = 2*np.pi*np.random.rand(parametric_circuit.learning_params_count)"
   ]
  },
  {
   "cell_type": "code",
   "execution_count": 7,
   "metadata": {},
   "outputs": [
    {
     "name": "stdout",
     "output_type": "stream",
     "text": [
      "init_params=array([1.46774986, 1.28828448, 1.39899023, 5.64748127, 1.45839158,\n",
      "       3.96669308, 1.18548222, 0.92332396, 3.06188168, 3.1877129 ,\n",
      "       4.06613981, 5.42225407, 2.01405839, 5.80886253, 1.21298981,\n",
      "       2.31903451, 2.36369411, 0.84542679, 6.2086625 , 2.14165122,\n",
      "       1.26714706, 2.63891739, 0.98833287, 1.50077018, 5.66210075,\n",
      "       1.90587476, 1.52828967, 1.51100626, 1.3292733 , 5.22163139,\n",
      "       4.5991069 , 0.14173203, 2.05832369, 0.96010719, 2.60972353,\n",
      "       2.40837251, 4.9291523 , 4.88477829, 1.35739375, 1.05190944,\n",
      "       2.82606557, 5.2728182 , 1.37343364, 3.32379675, 1.2015884 ,\n",
      "       0.24400477, 4.569186  , 0.78549666, 0.36241415, 4.47838645,\n",
      "       2.50547866, 1.33986908, 2.07555841, 0.77149509, 3.02220271,\n",
      "       1.28492401, 0.67694652, 4.87709561, 4.31731012, 0.7607329 ,\n",
      "       0.96821872, 1.53101332, 0.94456947, 0.52519633, 0.57010482,\n",
      "       5.43604187, 5.63872116, 4.43563063, 4.22738192, 6.08139253,\n",
      "       4.83792925, 5.27119237, 2.99371886, 2.26493077, 0.28595103,\n",
      "       3.03067464, 5.06539994, 1.030684  , 3.63758032, 0.20325049,\n",
      "       5.71561197, 4.42946934, 5.68325007, 2.13449101, 5.34280158,\n",
      "       2.54686066, 6.11124032, 1.47695102, 0.29894176, 2.44762304])\n",
      " iter:29/30 cost:0.0029358888016865896\n",
      "optimizer_state.cost=0.002935888801686589\n"
     ]
    }
   ],
   "source": [
    "qnn = QNNRegressor(n_qubits,parametric_circuit,estimator,gradient_estimator,adam,op)\n",
    "\n",
    "qnn.fit(x_train,y_train,maxiter=30)"
   ]
  },
  {
   "cell_type": "code",
   "execution_count": 8,
   "metadata": {},
   "outputs": [
    {
     "name": "stdout",
     "output_type": "stream",
     "text": [
      "loss=0.005955010480647041\n"
     ]
    },
    {
     "data": {
      "image/png": "[encoded data removed]",
      "text/plain": [
       "<Figure size 500x500 with 1 Axes>"
      ]
     },
     "metadata": {},
     "output_type": "display_data"
    }
   ],
   "source": [
    "y_pred = qnn.predict(x_test)\n",
    "y_test = y_test.reshape(-1,1)\n",
    "plt.figure(figsize=(5,5))\n",
    "\n",
    "plt.scatter(\n",
    "    np.sort(x_test.flatten()),\n",
    "    y_test[np.argsort(x_test.flatten())],label=\"Test\")\n",
    "\n",
    "x_true = np.linspace(-1,1,100)\n",
    "y_true = np.sin(np.pi * x_true)\n",
    "plt.plot(x_true,y_true,label=\"True\")\n",
    "plt.plot(\n",
    "    np.sort(x_test.flatten()),\n",
    "    y_pred[np.argsort(x_test.flatten())],\n",
    "    label=\"Prediction\")\n",
    "plt.legend()\n",
    "\n",
    "from sklearn.metrics import mean_squared_error\n",
    "loss = mean_squared_error(y_test,y_pred)\n",
    "print(f\"{loss=}\")\n",
    "plt.show()"
   ]
  }
 ],
 "metadata": {
  "kernelspec": {
   "display_name": "pyenv",
   "language": "python",
   "name": "python3"
  },
  "language_info": {
   "codemirror_mode": {
    "name": "ipython",
    "version": 3
   },
   "file_extension": ".py",
   "mimetype": "text/x-python",
   "name": "python",
   "nbconvert_exporter": "python",
   "pygments_lexer": "ipython3",
   "version": "3.11.9"
  }
 },
 "nbformat": 4,
 "nbformat_minor": 2
}
