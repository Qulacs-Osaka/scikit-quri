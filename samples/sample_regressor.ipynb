{
 "cells": [
  {
   "cell_type": "code",
   "execution_count": 1,
   "metadata": {},
   "outputs": [],
   "source": [
    "from pathlib import Path\n",
    "import sys\n",
    "\n",
    "sys.path.append(str(Path().resolve().parent))\n",
    "\n",
    "# import better_exceptions\n",
    "from scikit_quri.qnn.regressor import QNNRegressor\n",
    "import numpy as np\n",
    "from numpy.random import default_rng\n",
    "\n",
    "from quri_parts.core.operator import Operator, pauli_label\n",
    "from quri_parts.core.estimator.gradient import create_numerical_gradient_estimator\n",
    "from quri_parts.qulacs.estimator import (\n",
    "    create_qulacs_vector_concurrent_parametric_estimator,\n",
    "    create_qulacs_vector_concurrent_estimator,\n",
    ")\n",
    "from quri_parts.algo.optimizer import Adam\n",
    "from scikit_quri.circuit.pre_defined import create_qcl_ansatz\n",
    "\n",
    "\n",
    "def generate_noisy_sine(x_min, x_max, num_x):\n",
    "    rng = default_rng(0)\n",
    "    x_train = [[rng.uniform(x_min, x_max)] for _ in range(num_x)]\n",
    "    y_train = [np.sin(np.pi * x[0]) for x in x_train]\n",
    "    mag_noise = 0.01\n",
    "    y_train += mag_noise * rng.random(num_x)\n",
    "    # return np.array(x_train), np.array(y_train)\n",
    "    return np.array(x_train).flatten(), np.array(y_train)\n",
    "\n",
    "\n",
    "x_train, y_train = generate_noisy_sine(-1.0, 1.0, 80)\n",
    "x_test, y_test = generate_noisy_sine(-1.0, 1.0, 80)"
   ]
  },
  {
   "cell_type": "code",
   "execution_count": 2,
   "metadata": {},
   "outputs": [
    {
     "name": "stdout",
     "output_type": "stream",
     "text": [
      "   ___     ___     ___     ___     ___     ___     ___     ___     ___     ___  \n",
      "  |PRY|   |PRZ|   |Mat|   |PRX|   |PRZ|   |PRX|   |Mat|   |PRX|   |PRZ|   |PRX| \n",
      "--|0  |---|1  |---|10 |---|11 |---|12 |---|13 |---|26 |---|27 |---|28 |---|29 |-\n",
      "  |___|   |___|   |   |   |___|   |___|   |___|   |   |   |___|   |___|   |___| \n",
      "   ___     ___    |   |    ___     ___     ___    |   |    ___     ___     ___  \n",
      "  |PRY|   |PRZ|   |   |   |PRX|   |PRZ|   |PRX|   |   |   |PRX|   |PRZ|   |PRX| \n",
      "--|2  |---|3  |---|   |---|14 |---|15 |---|16 |---|   |---|30 |---|31 |---|32 |-\n",
      "  |___|   |___|   |   |   |___|   |___|   |___|   |   |   |___|   |___|   |___| \n",
      "   ___     ___    |   |    ___     ___     ___    |   |    ___     ___     ___  \n",
      "  |PRY|   |PRZ|   |   |   |PRX|   |PRZ|   |PRX|   |   |   |PRX|   |PRZ|   |PRX| \n",
      "--|4  |---|5  |---|   |---|17 |---|18 |---|19 |---|   |---|33 |---|34 |---|35 |-\n",
      "  |___|   |___|   |   |   |___|   |___|   |___|   |   |   |___|   |___|   |___| \n",
      "   ___     ___    |   |    ___     ___     ___    |   |    ___     ___     ___  \n",
      "  |PRY|   |PRZ|   |   |   |PRX|   |PRZ|   |PRX|   |   |   |PRX|   |PRZ|   |PRX| \n",
      "--|6  |---|7  |---|   |---|20 |---|21 |---|22 |---|   |---|36 |---|37 |---|38 |-\n",
      "  |___|   |___|   |   |   |___|   |___|   |___|   |   |   |___|   |___|   |___| \n",
      "   ___     ___    |   |    ___     ___     ___    |   |    ___     ___     ___  \n",
      "  |PRY|   |PRZ|   |   |   |PRX|   |PRZ|   |PRX|   |   |   |PRX|   |PRZ|   |PRX| \n",
      "--|8  |---|9  |---|   |---|23 |---|24 |---|25 |---|   |---|39 |---|40 |---|41 |-\n",
      "  |___|   |___|   |___|   |___|   |___|   |___|   |___|   |___|   |___|   |___| \n",
      "\n",
      "\n",
      "================================================================================\n",
      "\n",
      "   ___     ___     ___     ___     ___     ___     ___     ___     ___     ___  \n",
      "  |Mat|   |PRX|   |PRZ|   |PRX|   |Mat|   |PRX|   |PRZ|   |PRX|   |Mat|   |PRX| \n",
      "--|42 |---|43 |---|44 |---|45 |---|58 |---|59 |---|60 |---|61 |---|74 |---|75 |-\n",
      "  |   |   |___|   |___|   |___|   |   |   |___|   |___|   |___|   |   |   |___| \n",
      "  |   |    ___     ___     ___    |   |    ___     ___     ___    |   |    ___  \n",
      "  |   |   |PRX|   |PRZ|   |PRX|   |   |   |PRX|   |PRZ|   |PRX|   |   |   |PRX| \n",
      "--|   |---|46 |---|47 |---|48 |---|   |---|62 |---|63 |---|64 |---|   |---|78 |-\n",
      "  |   |   |___|   |___|   |___|   |   |   |___|   |___|   |___|   |   |   |___| \n",
      "  |   |    ___     ___     ___    |   |    ___     ___     ___    |   |    ___  \n",
      "  |   |   |PRX|   |PRZ|   |PRX|   |   |   |PRX|   |PRZ|   |PRX|   |   |   |PRX| \n",
      "--|   |---|49 |---|50 |---|51 |---|   |---|65 |---|66 |---|67 |---|   |---|81 |-\n",
      "  |   |   |___|   |___|   |___|   |   |   |___|   |___|   |___|   |   |   |___| \n",
      "  |   |    ___     ___     ___    |   |    ___     ___     ___    |   |    ___  \n",
      "  |   |   |PRX|   |PRZ|   |PRX|   |   |   |PRX|   |PRZ|   |PRX|   |   |   |PRX| \n",
      "--|   |---|52 |---|53 |---|54 |---|   |---|68 |---|69 |---|70 |---|   |---|84 |-\n",
      "  |   |   |___|   |___|   |___|   |   |   |___|   |___|   |___|   |   |   |___| \n",
      "  |   |    ___     ___     ___    |   |    ___     ___     ___    |   |    ___  \n",
      "  |   |   |PRX|   |PRZ|   |PRX|   |   |   |PRX|   |PRZ|   |PRX|   |   |   |PRX| \n",
      "--|   |---|55 |---|56 |---|57 |---|   |---|71 |---|72 |---|73 |---|   |---|87 |-\n",
      "  |___|   |___|   |___|   |___|   |___|   |___|   |___|   |___|   |___|   |___| \n",
      "\n",
      "\n",
      "================================================================================\n",
      "\n",
      "   ___     ___     ___     ___     ___     ___  \n",
      "  |PRZ|   |PRX|   |Mat|   |PRX|   |PRZ|   |PRX| \n",
      "--|76 |---|77 |---|90 |---|91 |---|92 |---|93 |-\n",
      "  |___|   |___|   |   |   |___|   |___|   |___| \n",
      "   ___     ___    |   |    ___     ___     ___  \n",
      "  |PRZ|   |PRX|   |   |   |PRX|   |PRZ|   |PRX| \n",
      "--|79 |---|80 |---|   |---|94 |---|95 |---|96 |-\n",
      "  |___|   |___|   |   |   |___|   |___|   |___| \n",
      "   ___     ___    |   |    ___     ___     ___  \n",
      "  |PRZ|   |PRX|   |   |   |PRX|   |PRZ|   |PRX| \n",
      "--|82 |---|83 |---|   |---|97 |---|98 |---|99 |-\n",
      "  |___|   |___|   |   |   |___|   |___|   |___| \n",
      "   ___     ___    |   |    ___     ___     ___  \n",
      "  |PRZ|   |PRX|   |   |   |PRX|   |PRZ|   |PRX| \n",
      "--|85 |---|86 |---|   |---|100|---|101|---|102|-\n",
      "  |___|   |___|   |   |   |___|   |___|   |___| \n",
      "   ___     ___    |   |    ___     ___     ___  \n",
      "  |PRZ|   |PRX|   |   |   |PRX|   |PRZ|   |PRX| \n",
      "--|88 |---|89 |---|   |---|103|---|104|---|105|-\n",
      "  |___|   |___|   |___|   |___|   |___|   |___| \n"
     ]
    }
   ],
   "source": [
    "from quri_parts.circuit.utils.circuit_drawer import draw_circuit\n",
    "import matplotlib.pyplot as plt\n",
    "\n",
    "n_qubits = 5\n",
    "depth = 6\n",
    "n_outputs = 1\n",
    "parametric_circuit = create_qcl_ansatz(n_qubits, depth, 0.5, 0)\n",
    "\n",
    "ops = []\n",
    "for i in range(n_outputs):\n",
    "    op = Operator({pauli_label(f\"Z {i}\"): 1.0})\n",
    "    ops.append(op)\n",
    "draw_circuit(parametric_circuit.circuit)\n",
    "\n",
    "estimator = create_qulacs_vector_concurrent_estimator()\n",
    "gradient_estimator = create_numerical_gradient_estimator(\n",
    "    create_qulacs_vector_concurrent_parametric_estimator(), delta=1e-10\n",
    ")\n",
    "adam = Adam()"
   ]
  },
  {
   "cell_type": "code",
   "execution_count": 3,
   "metadata": {},
   "outputs": [],
   "source": [
    "init_params = 2 * np.pi * np.random.rand(parametric_circuit.learning_params_count)"
   ]
  },
  {
   "cell_type": "code",
   "execution_count": 4,
   "metadata": {},
   "outputs": [
    {
     "name": "stdout",
     "output_type": "stream",
     "text": [
      "init_params=array([5.57759062e+00, 1.44689350e+00, 1.24230153e+00, 1.48472250e-01,\n",
      "       5.33916124e+00, 3.06264504e+00, 1.11321547e+00, 4.97880142e+00,\n",
      "       2.58772975e+00, 6.14894998e+00, 9.86362102e-01, 1.82769758e+00,\n",
      "       2.78158526e+00, 2.65136457e+00, 2.95650294e+00, 1.62214959e+00,\n",
      "       7.89133129e-01, 5.64585972e-01, 4.72478174e+00, 5.49905269e+00,\n",
      "       5.94865948e+00, 1.26863157e+00, 7.03299645e-02, 1.59489121e+00,\n",
      "       2.03253012e+00, 3.38045229e+00, 5.97667035e+00, 1.01500135e+00,\n",
      "       2.60094587e+00, 6.11286906e+00, 2.72270590e+00, 7.70050035e-01,\n",
      "       3.61108756e+00, 3.06365465e+00, 3.15293951e+00, 5.59281490e+00,\n",
      "       2.77402558e+00, 6.70475821e-01, 4.52536789e+00, 1.71478912e+00,\n",
      "       2.21836546e+00, 6.24132186e+00, 3.77197562e+00, 3.21794438e+00,\n",
      "       4.32309147e+00, 5.72817017e+00, 4.91702701e-01, 4.68780223e+00,\n",
      "       6.00227797e+00, 2.21065525e-01, 4.10186879e-01, 3.19285711e+00,\n",
      "       4.02570381e+00, 2.42213215e+00, 1.06057045e+00, 5.73706940e+00,\n",
      "       5.61836944e+00, 3.00028578e+00, 8.63766118e-01, 2.75959342e+00,\n",
      "       2.68555540e+00, 5.83875115e+00, 4.36711173e+00, 4.41192404e+00,\n",
      "       1.22558730e+00, 2.01073509e+00, 5.94164308e+00, 5.87996859e+00,\n",
      "       3.04863195e+00, 2.77445748e+00, 9.11085555e-01, 3.34606631e+00,\n",
      "       3.32155871e+00, 1.86271036e-01, 2.32540742e+00, 4.13408090e+00,\n",
      "       6.10095220e+00, 4.61247530e+00, 5.80200622e-03, 4.64363038e+00,\n",
      "       1.28572541e+00, 5.12709810e-01, 6.26392486e+00, 5.47379056e-01,\n",
      "       2.34797508e+00, 2.59070255e+00, 1.83812439e-01, 1.70778709e+00,\n",
      "       5.37085765e+00, 3.60655125e+00])\n",
      " iter:29/30 cost:0.0044916755242155093\n",
      "optimizer_state.cost=0.004491675524215509\n"
     ]
    }
   ],
   "source": [
    "qnn = QNNRegressor(n_qubits, parametric_circuit, estimator, gradient_estimator, adam, ops)\n",
    "\n",
    "qnn.fit(x_train, y_train, maxiter=30)"
   ]
  },
  {
   "cell_type": "code",
   "execution_count": 5,
   "metadata": {},
   "outputs": [
    {
     "name": "stdout",
     "output_type": "stream",
     "text": [
      "loss=0.00911069070701968\n"
     ]
    },
    {
     "data": {
      "image/png": "[encoded data removed]",
      "text/plain": [
       "<Figure size 500x500 with 1 Axes>"
      ]
     },
     "metadata": {},
     "output_type": "display_data"
    }
   ],
   "source": [
    "y_pred = qnn.predict(x_test)\n",
    "y_test = y_test.reshape(-1, 1)\n",
    "plt.figure(figsize=(5, 5))\n",
    "\n",
    "plt.scatter(np.sort(x_test.flatten()), y_test[np.argsort(x_test.flatten())], label=\"Test\")\n",
    "\n",
    "x_true = np.linspace(-1, 1, 100)\n",
    "y_true = np.sin(np.pi * x_true)\n",
    "plt.plot(x_true, y_true, label=\"True\")\n",
    "plt.plot(np.sort(x_test.flatten()), y_pred[np.argsort(x_test.flatten())], label=\"Prediction\")\n",
    "plt.legend()\n",
    "\n",
    "from sklearn.metrics import mean_squared_error\n",
    "\n",
    "loss = mean_squared_error(y_test, y_pred)\n",
    "print(f\"{loss=}\")\n",
    "plt.show()"
   ]
  }
 ],
 "metadata": {
  "kernelspec": {
   "display_name": "pyenv",
   "language": "python",
   "name": "python3"
  },
  "language_info": {
   "codemirror_mode": {
    "name": "ipython",
    "version": 3
   },
   "file_extension": ".py",
   "mimetype": "text/x-python",
   "name": "python",
   "nbconvert_exporter": "python",
   "pygments_lexer": "ipython3",
   "version": "3.11.9"
  }
 },
 "nbformat": 4,
 "nbformat_minor": 2
}
