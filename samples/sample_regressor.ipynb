{
 "cells": [
  {
   "cell_type": "code",
   "execution_count": 1,
   "metadata": {},
   "outputs": [],
   "source": [
    "from pathlib import Path\n",
    "import sys\n",
    "sys.path.append(str(Path().resolve().parent))\n",
    "\n",
    "# import better_exceptions\n",
    "from scikit_quri.qnn.regressor import QNNRegressor\n",
    "import numpy as np\n",
    "from numpy.random import default_rng\n",
    "\n",
    "from quri_parts.core.operator import Operator, pauli_label\n",
    "from quri_parts.core.estimator.gradient import (\n",
    "    create_numerical_gradient_estimator)\n",
    "from quri_parts.qulacs.estimator import (\n",
    "    create_qulacs_vector_concurrent_parametric_estimator,\n",
    "    create_qulacs_vector_concurrent_estimator,\n",
    ")\n",
    "from quri_parts.algo.optimizer import Adam\n",
    "from scikit_quri.circuit.pre_defined import create_qcl_ansatz\n",
    "\n",
    "def generate_noisy_sine(x_min, x_max, num_x):\n",
    "    rng = default_rng(0)\n",
    "    x_train = [[rng.uniform(x_min, x_max)] for _ in range(num_x)]\n",
    "    y_train = [np.sin(np.pi * x[0]) for x in x_train]\n",
    "    mag_noise = 0.01\n",
    "    y_train += mag_noise * rng.random(num_x)\n",
    "    # return np.array(x_train), np.array(y_train)\n",
    "    return np.array(x_train).flatten(), np.array(y_train)\n",
    "\n",
    "x_train,y_train = generate_noisy_sine(-1.,1.,80)\n",
    "x_test,y_test = generate_noisy_sine(-1.,1.,80)"
   ]
  },
  {
   "cell_type": "code",
   "execution_count": 2,
   "metadata": {},
   "outputs": [
    {
     "name": "stdout",
     "output_type": "stream",
     "text": [
      "   ___     ___     ___     ___     ___     ___     ___     ___     ___     ___  \n",
      "  |PRY|   |PRZ|   |Mat|   |PRX|   |PRZ|   |PRX|   |Mat|   |PRX|   |PRZ|   |PRX| \n",
      "--|0  |---|1  |---|10 |---|11 |---|12 |---|13 |---|26 |---|27 |---|28 |---|29 |-\n",
      "  |___|   |___|   |   |   |___|   |___|   |___|   |   |   |___|   |___|   |___| \n",
      "   ___     ___    |   |    ___     ___     ___    |   |    ___     ___     ___  \n",
      "  |PRY|   |PRZ|   |   |   |PRX|   |PRZ|   |PRX|   |   |   |PRX|   |PRZ|   |PRX| \n",
      "--|2  |---|3  |---|   |---|14 |---|15 |---|16 |---|   |---|30 |---|31 |---|32 |-\n",
      "  |___|   |___|   |   |   |___|   |___|   |___|   |   |   |___|   |___|   |___| \n",
      "   ___     ___    |   |    ___     ___     ___    |   |    ___     ___     ___  \n",
      "  |PRY|   |PRZ|   |   |   |PRX|   |PRZ|   |PRX|   |   |   |PRX|   |PRZ|   |PRX| \n",
      "--|4  |---|5  |---|   |---|17 |---|18 |---|19 |---|   |---|33 |---|34 |---|35 |-\n",
      "  |___|   |___|   |   |   |___|   |___|   |___|   |   |   |___|   |___|   |___| \n",
      "   ___     ___    |   |    ___     ___     ___    |   |    ___     ___     ___  \n",
      "  |PRY|   |PRZ|   |   |   |PRX|   |PRZ|   |PRX|   |   |   |PRX|   |PRZ|   |PRX| \n",
      "--|6  |---|7  |---|   |---|20 |---|21 |---|22 |---|   |---|36 |---|37 |---|38 |-\n",
      "  |___|   |___|   |   |   |___|   |___|   |___|   |   |   |___|   |___|   |___| \n",
      "   ___     ___    |   |    ___     ___     ___    |   |    ___     ___     ___  \n",
      "  |PRY|   |PRZ|   |   |   |PRX|   |PRZ|   |PRX|   |   |   |PRX|   |PRZ|   |PRX| \n",
      "--|8  |---|9  |---|   |---|23 |---|24 |---|25 |---|   |---|39 |---|40 |---|41 |-\n",
      "  |___|   |___|   |___|   |___|   |___|   |___|   |___|   |___|   |___|   |___| \n",
      "\n",
      "\n",
      "================================================================================\n",
      "\n",
      "   ___     ___     ___     ___     ___     ___     ___     ___     ___     ___  \n",
      "  |Mat|   |PRX|   |PRZ|   |PRX|   |Mat|   |PRX|   |PRZ|   |PRX|   |Mat|   |PRX| \n",
      "--|42 |---|43 |---|44 |---|45 |---|58 |---|59 |---|60 |---|61 |---|74 |---|75 |-\n",
      "  |   |   |___|   |___|   |___|   |   |   |___|   |___|   |___|   |   |   |___| \n",
      "  |   |    ___     ___     ___    |   |    ___     ___     ___    |   |    ___  \n",
      "  |   |   |PRX|   |PRZ|   |PRX|   |   |   |PRX|   |PRZ|   |PRX|   |   |   |PRX| \n",
      "--|   |---|46 |---|47 |---|48 |---|   |---|62 |---|63 |---|64 |---|   |---|78 |-\n",
      "  |   |   |___|   |___|   |___|   |   |   |___|   |___|   |___|   |   |   |___| \n",
      "  |   |    ___     ___     ___    |   |    ___     ___     ___    |   |    ___  \n",
      "  |   |   |PRX|   |PRZ|   |PRX|   |   |   |PRX|   |PRZ|   |PRX|   |   |   |PRX| \n",
      "--|   |---|49 |---|50 |---|51 |---|   |---|65 |---|66 |---|67 |---|   |---|81 |-\n",
      "  |   |   |___|   |___|   |___|   |   |   |___|   |___|   |___|   |   |   |___| \n",
      "  |   |    ___     ___     ___    |   |    ___     ___     ___    |   |    ___  \n",
      "  |   |   |PRX|   |PRZ|   |PRX|   |   |   |PRX|   |PRZ|   |PRX|   |   |   |PRX| \n",
      "--|   |---|52 |---|53 |---|54 |---|   |---|68 |---|69 |---|70 |---|   |---|84 |-\n",
      "  |   |   |___|   |___|   |___|   |   |   |___|   |___|   |___|   |   |   |___| \n",
      "  |   |    ___     ___     ___    |   |    ___     ___     ___    |   |    ___  \n",
      "  |   |   |PRX|   |PRZ|   |PRX|   |   |   |PRX|   |PRZ|   |PRX|   |   |   |PRX| \n",
      "--|   |---|55 |---|56 |---|57 |---|   |---|71 |---|72 |---|73 |---|   |---|87 |-\n",
      "  |___|   |___|   |___|   |___|   |___|   |___|   |___|   |___|   |___|   |___| \n",
      "\n",
      "\n",
      "================================================================================\n",
      "\n",
      "   ___     ___     ___     ___     ___     ___  \n",
      "  |PRZ|   |PRX|   |Mat|   |PRX|   |PRZ|   |PRX| \n",
      "--|76 |---|77 |---|90 |---|91 |---|92 |---|93 |-\n",
      "  |___|   |___|   |   |   |___|   |___|   |___| \n",
      "   ___     ___    |   |    ___     ___     ___  \n",
      "  |PRZ|   |PRX|   |   |   |PRX|   |PRZ|   |PRX| \n",
      "--|79 |---|80 |---|   |---|94 |---|95 |---|96 |-\n",
      "  |___|   |___|   |   |   |___|   |___|   |___| \n",
      "   ___     ___    |   |    ___     ___     ___  \n",
      "  |PRZ|   |PRX|   |   |   |PRX|   |PRZ|   |PRX| \n",
      "--|82 |---|83 |---|   |---|97 |---|98 |---|99 |-\n",
      "  |___|   |___|   |   |   |___|   |___|   |___| \n",
      "   ___     ___    |   |    ___     ___     ___  \n",
      "  |PRZ|   |PRX|   |   |   |PRX|   |PRZ|   |PRX| \n",
      "--|85 |---|86 |---|   |---|100|---|101|---|102|-\n",
      "  |___|   |___|   |   |   |___|   |___|   |___| \n",
      "   ___     ___    |   |    ___     ___     ___  \n",
      "  |PRZ|   |PRX|   |   |   |PRX|   |PRZ|   |PRX| \n",
      "--|88 |---|89 |---|   |---|103|---|104|---|105|-\n",
      "  |___|   |___|   |___|   |___|   |___|   |___| \n"
     ]
    }
   ],
   "source": [
    "from quri_parts.circuit.utils.circuit_drawer import draw_circuit\n",
    "import matplotlib.pyplot as plt\n",
    "n_qubits = 5\n",
    "depth = 6\n",
    "n_outputs = 1\n",
    "parametric_circuit = create_qcl_ansatz(n_qubits,depth,0.5,0)\n",
    "\n",
    "op = Operator()\n",
    "for i in range(n_outputs):\n",
    "    op.add_term(pauli_label(f\"Z {i}\"),1.0)\n",
    "draw_circuit(parametric_circuit.circuit)\n",
    "\n",
    "estimator = create_qulacs_vector_concurrent_estimator()\n",
    "gradient_estimator = create_numerical_gradient_estimator(create_qulacs_vector_concurrent_parametric_estimator(),delta=1e-10)\n",
    "adam = Adam()"
   ]
  },
  {
   "cell_type": "code",
   "execution_count": 3,
   "metadata": {},
   "outputs": [],
   "source": [
    "init_params = 2*np.pi*np.random.rand(parametric_circuit.n_learning_params)"
   ]
  },
  {
   "cell_type": "code",
   "execution_count": 4,
   "metadata": {},
   "outputs": [
    {
     "name": "stdout",
     "output_type": "stream",
     "text": [
      "init_params=array([1.96101161, 2.79445738, 2.50110619, 4.45010224, 2.82653715,\n",
      "       3.85923788, 0.47720971, 1.03747838, 2.36909666, 3.01158399,\n",
      "       2.39271439, 2.48189297, 4.94783127, 3.03714085, 0.65549319,\n",
      "       4.69956346, 2.6703006 , 1.1927865 , 2.78081119, 5.57082724,\n",
      "       2.41888863, 0.02687372, 3.34045724, 4.83567061, 6.06776981,\n",
      "       0.70021351, 2.60353088, 1.19915596, 3.03117354, 4.66209654,\n",
      "       1.02312951, 1.00638087, 1.81826376, 5.06165667, 5.41353346,\n",
      "       2.90122254, 4.99397248, 2.01229429, 5.13403321, 1.43193068,\n",
      "       3.80761646, 2.0732364 , 4.53678199, 5.18446387, 4.39553391,\n",
      "       6.22294295, 1.91646142, 5.88031601, 3.91919148, 3.00777219,\n",
      "       2.25787994, 4.35480088, 0.18379948, 3.04205916, 1.29945626,\n",
      "       0.8702071 , 5.56402434, 3.79646514, 1.8285908 , 1.26978787,\n",
      "       0.79359341, 2.29435404, 0.17241617, 1.15766909, 0.07158086,\n",
      "       1.82049906, 0.93901441, 5.52474138, 2.53867631, 3.94746852,\n",
      "       4.69937071, 2.37683963, 2.65630042, 3.19970277, 3.70223581,\n",
      "       2.65444028, 4.34333777, 3.82677672, 2.35082223, 3.74631717,\n",
      "       0.83807783, 4.73983946, 2.77938446, 5.30543166, 0.14524906,\n",
      "       0.55185627, 5.62403172, 0.70401107, 0.11301006, 2.19973524])\n",
      " iter:29/30 cost:0.007669186758015428\n",
      "optimizer_state.cost=0.007669186758015428\n"
     ]
    }
   ],
   "source": [
    "qnn = QNNRegressor(n_qubits,parametric_circuit,estimator,gradient_estimator,adam,op)\n",
    "\n",
    "qnn.fit(x_train,y_train,maxiter=30)"
   ]
  },
  {
   "cell_type": "code",
   "execution_count": null,
   "metadata": {},
   "outputs": [
    {
     "name": "stdout",
     "output_type": "stream",
     "text": [
      "cost=0.015555796083211716\n"
     ]
    },
    {
     "data": {
      "image/png": "[encoded data removed]",
      "text/plain": [
       "<Figure size 500x500 with 1 Axes>"
      ]
     },
     "metadata": {},
     "output_type": "display_data"
    }
   ],
   "source": [
    "y_pred = qnn.predict(x_test)\n",
    "y_test = y_test.reshape(-1,1)\n",
    "plt.figure(figsize=(5,5))\n",
    "\n",
    "plt.scatter(\n",
    "    np.sort(x_test.flatten()),\n",
    "    y_test[np.argsort(x_test.flatten())],label=\"Test\")\n",
    "\n",
    "x_true = np.linspace(-1,1,100)\n",
    "y_true = np.sin(np.pi * x_true)\n",
    "plt.plot(x_true,y_true,label=\"True\")\n",
    "plt.plot(\n",
    "    np.sort(x_test.flatten()),\n",
    "    y_pred[np.argsort(x_test.flatten())],\n",
    "    label=\"Prediction\")\n",
    "plt.legend()\n",
    "\n",
    "from sklearn.metrics import mean_squared_error\n",
    "loss = mean_squared_error(y_test,y_pred)\n",
    "print(f\"{loss=}\")\n",
    "plt.show()"
   ]
  }
 ],
 "metadata": {
  "kernelspec": {
   "display_name": "pyenv",
   "language": "python",
   "name": "python3"
  },
  "language_info": {
   "codemirror_mode": {
    "name": "ipython",
    "version": 3
   },
   "file_extension": ".py",
   "mimetype": "text/x-python",
   "name": "python",
   "nbconvert_exporter": "python",
   "pygments_lexer": "ipython3",
   "version": "3.11.9"
  }
 },
 "nbformat": 4,
 "nbformat_minor": 2
}
