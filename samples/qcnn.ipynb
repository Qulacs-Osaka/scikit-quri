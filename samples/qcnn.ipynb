{
 "cells": [
  {
   "cell_type": "code",
   "execution_count": 1,
   "metadata": {},
   "outputs": [],
   "source": [
    "from pathlib import Path\n",
    "import sys\n",
    "\n",
    "sys.path.append(str(Path().resolve().parent))\n",
    "import os"
   ]
  },
  {
   "cell_type": "code",
   "execution_count": 2,
   "metadata": {},
   "outputs": [],
   "source": [
    "import matplotlib.pyplot as plt\n",
    "import numpy as np\n",
    "from numpy.random import default_rng\n",
    "from sklearn.metrics import f1_score\n",
    "from scikit_quri.qnn.classifier import QNNClassifier\n",
    "from scikit_quri.circuit.pre_defined import create_qcnn_ansatz\n",
    "from quri_parts.core.estimator.gradient import (\n",
    "    create_numerical_gradient_estimator,\n",
    "    create_parameter_shift_gradient_estimator,\n",
    ")\n",
    "from quri_parts.qulacs.estimator import (\n",
    "    create_qulacs_vector_concurrent_estimator,\n",
    "    create_qulacs_vector_concurrent_parametric_estimator,\n",
    ")\n",
    "from quri_parts.algo.optimizer import Adam"
   ]
  },
  {
   "cell_type": "code",
   "execution_count": 3,
   "metadata": {},
   "outputs": [],
   "source": [
    "def generate_data(bits: int, random_seed: int = 0):\n",
    "    \"\"\"Generate training and testing data.\"\"\"\n",
    "    rng = default_rng(random_seed)\n",
    "    n_rounds = 20\n",
    "    excitations = []\n",
    "    labels = []\n",
    "    for n in range(n_rounds):\n",
    "        for bit in range(bits):\n",
    "            r = rng.uniform(-np.pi, np.pi)\n",
    "            excitations.append(r)\n",
    "            labels.append(1 if (-np.pi / 2) <= r <= (np.pi / 2) else 0)\n",
    "\n",
    "    split_ind = int(len(excitations) * 0.7)\n",
    "    train_excitations = excitations[:split_ind]\n",
    "    test_excitations = excitations[split_ind:]\n",
    "\n",
    "    train_labels = labels[:split_ind]\n",
    "    test_labels = labels[split_ind:]\n",
    "\n",
    "    return train_excitations, np.array(train_labels), test_excitations, np.array(test_labels)"
   ]
  },
  {
   "cell_type": "code",
   "execution_count": 4,
   "metadata": {},
   "outputs": [],
   "source": [
    "nqubit = 8  # 量子ビット数。現在8固定\n",
    "random_seed = 0  # 乱数のシード値\n",
    "circuit = create_qcnn_ansatz(nqubit, random_seed)"
   ]
  },
  {
   "cell_type": "code",
   "execution_count": 5,
   "metadata": {},
   "outputs": [],
   "source": [
    "num_class = 2  # 分類数（ここでは2つに分類）\n",
    "adam = Adam()\n",
    "estimator = create_qulacs_vector_concurrent_estimator()\n",
    "gradient_estimator = create_numerical_gradient_estimator(\n",
    "    create_qulacs_vector_concurrent_parametric_estimator(), delta=1e-3\n",
    ")\n",
    "from quri_parts.core.operator import Operator, pauli_label\n",
    "\n",
    "ops = []\n",
    "for i in range(2):\n",
    "    op = Operator({pauli_label(f\"Z{i}\"): 1.0})\n",
    "    ops.append(op)\n",
    "qcl = QNNClassifier(circuit, num_class, estimator, gradient_estimator, optimizer=adam, operator=ops)"
   ]
  },
  {
   "cell_type": "code",
   "execution_count": 6,
   "metadata": {},
   "outputs": [
    {
     "name": "stdout",
     "output_type": "stream",
     "text": [
      " iter:19/20 cost:optimizer_state.cost=0.43902316166374365\n",
      "f1_score:  0.7392857142857142\n"
     ]
    }
   ],
   "source": [
    "maxiter = 20  # ループの最大。これが多いほど、正確になるが、時間がかかる。\n",
    "x_train, y_train, x_test, y_test = generate_data(nqubit)\n",
    "qcl.fit(np.array(x_train), np.array(y_train), maxiter)\n",
    "y_pred = qcl.predict(np.array(x_test)).argmax(axis=1)\n",
    "print(\"f1_score: \", f1_score(y_test, y_pred, average=\"weighted\"))"
   ]
  }
 ],
 "metadata": {
  "kernelspec": {
   "display_name": "pyenv",
   "language": "python",
   "name": "python3"
  },
  "language_info": {
   "codemirror_mode": {
    "name": "ipython",
    "version": 3
   },
   "file_extension": ".py",
   "mimetype": "text/x-python",
   "name": "python",
   "nbconvert_exporter": "python",
   "pygments_lexer": "ipython3",
   "version": "3.11.9"
  }
 },
 "nbformat": 4,
 "nbformat_minor": 2
}
