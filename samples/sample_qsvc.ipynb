{
 "cells": [
  {
   "cell_type": "code",
   "execution_count": 1,
   "metadata": {},
   "outputs": [],
   "source": [
    "from pathlib import Path\n",
    "import sys\n",
    "sys.path.append(str(Path().resolve().parent))"
   ]
  },
  {
   "cell_type": "code",
   "execution_count": 2,
   "metadata": {},
   "outputs": [],
   "source": [
    "from sklearn import datasets\n",
    "from sklearn.model_selection import train_test_split\n",
    "from sklearn.metrics import f1_score\n",
    "import pandas as pd\n",
    "\n",
    "iris = datasets.load_iris()\n",
    "df = pd.DataFrame(iris.data, columns=iris.feature_names)\n",
    "x = df.loc[:,[\"petal length (cm)\", \"petal width (cm)\"]]\n",
    "x_train, x_test, y_train, y_test = train_test_split(\n",
    "    x, iris.target, test_size=0.25, random_state=0\n",
    ")\n",
    "x_train = x_train.to_numpy()\n",
    "x_test = x_test.to_numpy()"
   ]
  },
  {
   "cell_type": "code",
   "execution_count": 3,
   "metadata": {},
   "outputs": [
    {
     "name": "stdout",
     "output_type": "stream",
     "text": [
      " 111/112\n",
      " 37/38\n"
     ]
    },
    {
     "name": "stderr",
     "output_type": "stream",
     "text": [
      "d:\\github\\scikit-quri\\pyenv\\Lib\\site-packages\\quri_parts\\qiskit\\backend\\utils.py:68: UserWarning: No max_shots setting is found. The max shot is set to default value 1000000\n",
      "  warnings.warn(\n"
     ]
    }
   ],
   "source": [
    "from scikit_quri.circuit import create_ibm_embedding_circuit\n",
    "from scikit_quri.qsvm import QSVC\n",
    "n_qubit = 4\n",
    "circuit = create_ibm_embedding_circuit(n_qubit)\n",
    "from quri_parts.qiskit.backend import QiskitSamplingBackend\n",
    "from qiskit_aer import AerSimulator\n",
    "qsvm = QSVC(circuit,sim=True)\n",
    "qsvm.fit(x_train, y_train,QiskitSamplingBackend(backend=AerSimulator()),n_shots=10)\n",
    "y_pred = qsvm.predict(x_test)"
   ]
  },
  {
   "cell_type": "code",
   "execution_count": 4,
   "metadata": {},
   "outputs": [
    {
     "name": "stdout",
     "output_type": "stream",
     "text": [
      "y_pred=array([2, 1, 0, 2, 0, 2, 0, 1, 1, 1, 2, 1, 1, 1, 1, 0, 1, 1, 0, 0, 2, 1,\n",
      "       0, 0, 1, 0, 0, 1, 1, 0, 2, 1, 0, 2, 2, 1, 0, 2])\n",
      "y_test=array([2, 1, 0, 2, 0, 2, 0, 1, 1, 1, 2, 1, 1, 1, 1, 0, 1, 1, 0, 0, 2, 1,\n",
      "       0, 0, 2, 0, 0, 1, 1, 0, 2, 1, 0, 2, 2, 1, 0, 1])\n",
      "f1_score=0.9473684210526315\n"
     ]
    },
    {
     "data": {
      "image/png": "[encoded data removed]",
      "text/plain": [
       "<Figure size 640x480 with 2 Axes>"
      ]
     },
     "metadata": {},
     "output_type": "display_data"
    }
   ],
   "source": [
    "from sklearn.metrics import confusion_matrix\n",
    "import seaborn as sns\n",
    "\n",
    "cm = confusion_matrix(y_test, y_pred)\n",
    "sns.heatmap(cm,annot=True)\n",
    "print(f\"{y_pred=}\")\n",
    "print(f\"{y_test=}\")\n",
    "\n",
    "print(f\"f1_score={f1_score(y_test, y_pred, average='weighted')}\")"
   ]
  }
 ],
 "metadata": {
  "kernelspec": {
   "display_name": "pyenv",
   "language": "python",
   "name": "python3"
  },
  "language_info": {
   "codemirror_mode": {
    "name": "ipython",
    "version": 3
   },
   "file_extension": ".py",
   "mimetype": "text/x-python",
   "name": "python",
   "nbconvert_exporter": "python",
   "pygments_lexer": "ipython3",
   "version": "3.11.9"
  }
 },
 "nbformat": 4,
 "nbformat_minor": 2
}
