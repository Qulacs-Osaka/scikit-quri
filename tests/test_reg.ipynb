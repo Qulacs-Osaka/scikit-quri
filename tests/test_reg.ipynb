{
 "cells": [
  {
   "cell_type": "code",
   "execution_count": 1,
   "metadata": {},
   "outputs": [],
   "source": [
    "from pathlib import Path\n",
    "import sys\n",
    "sys.path.append(str(Path().resolve().parent))\n",
    "\n",
    "# import better_exceptions\n",
    "from scikit_quri.qnn.regressor import QNNRegressor\n",
    "import numpy as np\n",
    "from typing import Optional\n",
    "from quri_parts.circuit.utils.circuit_drawer import draw_circuit\n",
    "from quri_parts.circuit import UnboundParametricQuantumCircuit,LinearMappedUnboundParametricQuantumCircuit\n",
    "from numpy.random import default_rng\n",
    "\n",
    "from qulacs import Observable\n",
    "from quri_parts.core.operator import Operator, pauli_label\n",
    "from quri_parts.core.estimator.gradient import (\n",
    "    create_parameter_shift_gradient_estimator,\n",
    "    create_numerical_gradient_estimator)\n",
    "from quri_parts.qulacs.estimator import (\n",
    "    create_qulacs_vector_estimator,\n",
    "    create_qulacs_vector_parametric_estimator,\n",
    "    create_qulacs_vector_concurrent_parametric_estimator,\n",
    "    create_qulacs_vector_concurrent_estimator,\n",
    ")\n",
    "from quri_parts.algo.optimizer import Adam, LBFGS\n",
    "from scikit_quri.circuit import LearningCircuit\n",
    "from scikit_quri.circuit.pre_defined import create_farhi_neven_ansatz,create_qcl_ansatz\n",
    "\n",
    "def generate_noisy_sine(x_min, x_max, num_x):\n",
    "    rng = default_rng(0)\n",
    "    x_train = [[rng.uniform(x_min, x_max)] for _ in range(num_x)]\n",
    "    y_train = [np.sin(np.pi * x[0]) for x in x_train]\n",
    "    mag_noise = 0.01\n",
    "    y_train += mag_noise * rng.random(num_x)\n",
    "    # return np.array(x_train), np.array(y_train)\n",
    "    return np.array(x_train).flatten(), np.array(y_train)\n",
    "\n",
    "x_train,y_train = generate_noisy_sine(-1.,1.,80)\n",
    "x_test,y_test = generate_noisy_sine(-1.,1.,80)"
   ]
  },
  {
   "cell_type": "code",
   "execution_count": 2,
   "metadata": {},
   "outputs": [
    {
     "name": "stdout",
     "output_type": "stream",
     "text": [
      "   ___     ___     ___     ___     ___     ___     ___     ___     ___     ___  \n",
      "  |PRY|   |PRZ|   |Mat|   |PRX|   |PRZ|   |PRX|   |Mat|   |PRX|   |PRZ|   |PRX| \n",
      "--|0  |---|1  |---|8  |---|9  |---|10 |---|11 |---|21 |---|22 |---|23 |---|24 |-\n",
      "  |___|   |___|   |   |   |___|   |___|   |___|   |   |   |___|   |___|   |___| \n",
      "   ___     ___    |   |    ___     ___     ___    |   |    ___     ___     ___  \n",
      "  |PRY|   |PRZ|   |   |   |PRX|   |PRZ|   |PRX|   |   |   |PRX|   |PRZ|   |PRX| \n",
      "--|2  |---|3  |---|   |---|12 |---|13 |---|14 |---|   |---|25 |---|26 |---|27 |-\n",
      "  |___|   |___|   |   |   |___|   |___|   |___|   |   |   |___|   |___|   |___| \n",
      "   ___     ___    |   |    ___     ___     ___    |   |    ___     ___     ___  \n",
      "  |PRY|   |PRZ|   |   |   |PRX|   |PRZ|   |PRX|   |   |   |PRX|   |PRZ|   |PRX| \n",
      "--|4  |---|5  |---|   |---|15 |---|16 |---|17 |---|   |---|28 |---|29 |---|30 |-\n",
      "  |___|   |___|   |   |   |___|   |___|   |___|   |   |   |___|   |___|   |___| \n",
      "   ___     ___    |   |    ___     ___     ___    |   |    ___     ___     ___  \n",
      "  |PRY|   |PRZ|   |   |   |PRX|   |PRZ|   |PRX|   |   |   |PRX|   |PRZ|   |PRX| \n",
      "--|6  |---|7  |---|   |---|18 |---|19 |---|20 |---|   |---|31 |---|32 |---|33 |-\n",
      "  |___|   |___|   |___|   |___|   |___|   |___|   |___|   |___|   |___|   |___| \n",
      "\n",
      "\n",
      "================================================================================\n",
      "\n",
      "   ___     ___     ___     ___     ___     ___     ___     ___     ___     ___  \n",
      "  |Mat|   |PRX|   |PRZ|   |PRX|   |Mat|   |PRX|   |PRZ|   |PRX|   |Mat|   |PRX| \n",
      "--|34 |---|35 |---|36 |---|37 |---|47 |---|48 |---|49 |---|50 |---|60 |---|61 |-\n",
      "  |   |   |___|   |___|   |___|   |   |   |___|   |___|   |___|   |   |   |___| \n",
      "  |   |    ___     ___     ___    |   |    ___     ___     ___    |   |    ___  \n",
      "  |   |   |PRX|   |PRZ|   |PRX|   |   |   |PRX|   |PRZ|   |PRX|   |   |   |PRX| \n",
      "--|   |---|38 |---|39 |---|40 |---|   |---|51 |---|52 |---|53 |---|   |---|64 |-\n",
      "  |   |   |___|   |___|   |___|   |   |   |___|   |___|   |___|   |   |   |___| \n",
      "  |   |    ___     ___     ___    |   |    ___     ___     ___    |   |    ___  \n",
      "  |   |   |PRX|   |PRZ|   |PRX|   |   |   |PRX|   |PRZ|   |PRX|   |   |   |PRX| \n",
      "--|   |---|41 |---|42 |---|43 |---|   |---|54 |---|55 |---|56 |---|   |---|67 |-\n",
      "  |   |   |___|   |___|   |___|   |   |   |___|   |___|   |___|   |   |   |___| \n",
      "  |   |    ___     ___     ___    |   |    ___     ___     ___    |   |    ___  \n",
      "  |   |   |PRX|   |PRZ|   |PRX|   |   |   |PRX|   |PRZ|   |PRX|   |   |   |PRX| \n",
      "--|   |---|44 |---|45 |---|46 |---|   |---|57 |---|58 |---|59 |---|   |---|70 |-\n",
      "  |___|   |___|   |___|   |___|   |___|   |___|   |___|   |___|   |___|   |___| \n",
      "\n",
      "\n",
      "================================================================================\n",
      "\n",
      "   ___     ___     ___     ___     ___     ___  \n",
      "  |PRZ|   |PRX|   |Mat|   |PRX|   |PRZ|   |PRX| \n",
      "--|62 |---|63 |---|73 |---|74 |---|75 |---|76 |-\n",
      "  |___|   |___|   |   |   |___|   |___|   |___| \n",
      "   ___     ___    |   |    ___     ___     ___  \n",
      "  |PRZ|   |PRX|   |   |   |PRX|   |PRZ|   |PRX| \n",
      "--|65 |---|66 |---|   |---|77 |---|78 |---|79 |-\n",
      "  |___|   |___|   |   |   |___|   |___|   |___| \n",
      "   ___     ___    |   |    ___     ___     ___  \n",
      "  |PRZ|   |PRX|   |   |   |PRX|   |PRZ|   |PRX| \n",
      "--|68 |---|69 |---|   |---|80 |---|81 |---|82 |-\n",
      "  |___|   |___|   |   |   |___|   |___|   |___| \n",
      "   ___     ___    |   |    ___     ___     ___  \n",
      "  |PRZ|   |PRX|   |   |   |PRX|   |PRZ|   |PRX| \n",
      "--|71 |---|72 |---|   |---|83 |---|84 |---|85 |-\n",
      "  |___|   |___|   |___|   |___|   |___|   |___| \n"
     ]
    }
   ],
   "source": [
    "from scikit_quri.circuit import LearningCircuit\n",
    "from quri_parts.circuit.utils.circuit_drawer import draw_circuit\n",
    "import matplotlib.pyplot as plt\n",
    "n_qubits = 4\n",
    "depth = 6\n",
    "n_outputs = 1\n",
    "# parametric_circuit = create_farhi_neven_ansatz(n_qubits,depth,1)\n",
    "parametric_circuit = create_qcl_ansatz(n_qubits,depth,0.5,0)\n",
    "\n",
    "op = Operator()\n",
    "for i in range(n_outputs):\n",
    "    op.add_term(pauli_label(f\"Z {i}\"),1.0)\n",
    "draw_circuit(parametric_circuit.circuit)\n",
    "# estimator = create_qulacs_vector_estimator()\n",
    "estimator = create_qulacs_vector_concurrent_estimator()\n",
    "# gradient_estimator = create_parameter_shift_gradient_estimator(create_qulacs_vector_concurrent_parametric_estimator())\n",
    "gradient_estimator = create_numerical_gradient_estimator(create_qulacs_vector_concurrent_parametric_estimator(),delta=1e-10)\n",
    "adam = Adam()"
   ]
  },
  {
   "cell_type": "code",
   "execution_count": 3,
   "metadata": {},
   "outputs": [
    {
     "name": "stdout",
     "output_type": "stream",
     "text": [
      "[4.17599746 5.5566634  5.96038251 2.90919397 0.79039219 0.41389608\n",
      " 0.79885058 0.03243219 0.24570393 5.06333018 0.56532264 0.38393774\n",
      " 3.84031102 2.81935106 0.45091542 5.65999364 4.63200283 0.8913787\n",
      " 3.51413462 3.19645485 6.05133629 2.21383849 2.92501521 0.12442262\n",
      " 0.46853859 1.23852098 1.2804563  3.16020317 4.38659462 2.25605558\n",
      " 4.5322908  4.67910019 5.50434219 4.21281317 4.56586372 2.83283967\n",
      " 6.20450276 3.93631811 0.62053002 3.77988263 1.84500887 3.44071398\n",
      " 1.68324704 5.86735057 3.34123598 6.23995942 0.90246877 1.45425019\n",
      " 4.12177424 3.36842071 3.21918732 1.15796498 4.22311498 5.97452187\n",
      " 3.90977403 0.63946753 3.123649   1.49318732 3.45325721 3.96953763\n",
      " 2.61476213 5.61148938 0.51539016 5.82982967 3.31393109 0.18931793\n",
      " 2.76904508 4.23928066 0.54222569 4.10324252 0.95090541 0.41341499]\n"
     ]
    }
   ],
   "source": [
    "init_params = 2*np.pi*np.random.rand(parametric_circuit.n_learning_params)\n",
    "print(init_params)"
   ]
  },
  {
   "cell_type": "code",
   "execution_count": 4,
   "metadata": {},
   "outputs": [
    {
     "name": "stdout",
     "output_type": "stream",
     "text": [
      "parameter_count=72\n",
      "init_params=array([0.3518916 , 2.34274277, 5.48236591, 5.73740399, 1.88407729,\n",
      "       2.50622782, 5.503142  , 1.04446861, 3.31665641, 5.37901342,\n",
      "       5.62361566, 1.27850361, 2.79048566, 2.48137701, 2.21336257,\n",
      "       4.46856506, 3.59524666, 1.61281514, 0.67883137, 5.67442085,\n",
      "       4.17741875, 1.07378237, 1.83166108, 3.78137705, 4.25360556,\n",
      "       0.75221826, 1.52076057, 4.04994292, 2.99592492, 5.97491188,\n",
      "       3.702313  , 1.73754044, 6.08658455, 3.70735252, 3.93604674,\n",
      "       5.87637058, 1.43126897, 6.05936192, 3.32769854, 6.23208926,\n",
      "       4.37957175, 3.24072533, 2.4750878 , 5.21333435, 2.5491728 ,\n",
      "       4.7899191 , 3.33951568, 4.87793049, 5.59029345, 0.30129821,\n",
      "       2.65715898, 4.13729057, 5.65174276, 1.07056102, 3.80751065,\n",
      "       2.43087084, 0.24121586, 4.44323263, 1.5807485 , 3.74236185,\n",
      "       5.179941  , 1.84518247, 1.2015688 , 0.58179202, 5.92190951,\n",
      "       0.55072651, 2.00085516, 4.08139061, 2.52946327, 4.41486091,\n",
      "       6.25579278, 2.28681207])\n",
      "optimizer_state.cost=0.2562762321579323\n",
      "optimizer_state.cost=0.04876846686430737\n",
      "optimizer_state.cost=0.023522348189613303\n",
      "optimizer_state.cost=0.10257169195156675\n",
      "optimizer_state.cost=0.12388968556105029\n",
      "optimizer_state.cost=0.08743022396228843\n",
      "optimizer_state.cost=0.05022928970602856\n",
      "optimizer_state.cost=0.04887063929706953\n",
      "optimizer_state.cost=0.06548242926529012\n",
      "optimizer_state.cost=0.06999334536601814\n",
      "optimizer_state.cost=0.051437664173993355\n",
      "optimizer_state.cost=0.024354296221260716\n",
      "optimizer_state.cost=0.011749198490513733\n",
      "optimizer_state.cost=0.01799807331128738\n",
      "optimizer_state.cost=0.0275448149558122\n",
      "optimizer_state.cost=0.028508196298680677\n",
      "optimizer_state.cost=0.0218081163386619\n",
      "optimizer_state.cost=0.013468482266003879\n",
      "optimizer_state.cost=0.007616345104754843\n",
      "optimizer_state.cost=0.005576742113264359\n",
      "optimizer_state.cost=0.0074015981920789635\n",
      "optimizer_state.cost=0.010986681279192459\n",
      "optimizer_state.cost=0.012325214233749087\n",
      "optimizer_state.cost=0.009759735063645381\n",
      "optimizer_state.cost=0.006061453914294577\n",
      "optimizer_state.cost=0.004680806808899358\n",
      "optimizer_state.cost=0.005785388288859356\n",
      "optimizer_state.cost=0.007152115035662132\n",
      "optimizer_state.cost=0.00727057997096831\n",
      "optimizer_state.cost=0.0061727480097672534\n",
      "self.trained_param=array([0.26072618, 2.36998921, 5.79435144, 5.28944909, 1.43227369,\n",
      "       2.25520399, 5.69250965, 0.59756765, 3.13328336, 5.71314071,\n",
      "       5.40457603, 1.63437587, 2.77933838, 2.53085171, 2.27570813,\n",
      "       4.28275133, 3.6310711 , 1.86991966, 0.26612498, 5.4861119 ,\n",
      "       3.67816447, 0.62579267, 2.10981815, 3.52707322, 4.42431572,\n",
      "       1.0536866 , 1.64265394, 3.92062479, 3.08887613, 6.17513925,\n",
      "       3.17263897, 2.04719312, 6.06556203, 3.58091072, 3.73732665,\n",
      "       5.71999418, 1.56812932, 6.25620939, 3.46546787, 6.54725718,\n",
      "       4.69738332, 3.38924426, 2.67292842, 4.99055401, 2.89959668,\n",
      "       4.55726513, 3.10372599, 5.00674458, 5.69122424, 0.0828059 ,\n",
      "       2.61183633, 4.50817885, 5.41434365, 1.42843725, 4.07313318,\n",
      "       2.10863905, 0.12065539, 4.40261642, 1.52038062, 3.8994939 ,\n",
      "       4.87160681, 2.15127621, 1.51017754, 0.60897496, 6.20872879,\n",
      "       0.40430555, 2.17414724, 3.86211146, 2.24987068, 4.09014836,\n",
      "       6.04286648, 2.41777284])\n"
     ]
    }
   ],
   "source": [
    "qnn = QNNRegressor(n_qubits,parametric_circuit,estimator,gradient_estimator,adam,op)\n",
    "\n",
    "# qnn.grad_fn(x_train.reshape((-1,1)),y_train.reshape((-1,1)),params=init_params)\n",
    "qnn.fit(x_train,y_train,maxiter=30)"
   ]
  },
  {
   "cell_type": "code",
   "execution_count": 5,
   "metadata": {},
   "outputs": [
    {
     "name": "stdout",
     "output_type": "stream",
     "text": [
      "cost=0.012520494329158593\n"
     ]
    },
    {
     "data": {
      "image/png": "[encoded data removed]",
      "text/plain": [
       "<Figure size 500x500 with 1 Axes>"
      ]
     },
     "metadata": {},
     "output_type": "display_data"
    }
   ],
   "source": [
    "y_pred = qnn.predict(x_test)\n",
    "y_test = y_test.reshape(-1,1)\n",
    "plt.figure(figsize=(5,5))\n",
    "\n",
    "# plt.plot(x_test,y_test,marker=\"o\",color=\"orange\",label=\"Test\")\n",
    "plt.scatter(\n",
    "    np.sort(x_test),\n",
    "    y_test[np.argsort(x_test.flatten())],label=\"Test\")\n",
    "\n",
    "x_true = np.linspace(-1,1,100)\n",
    "y_true = np.sin(np.pi * x_true)\n",
    "plt.plot(x_true,y_true,label=\"True\")\n",
    "plt.plot(\n",
    "    np.sort(x_test.flatten()),\n",
    "    y_pred[np.argsort(x_test.flatten())],\n",
    "    label=\"Prediction\")\n",
    "# plt.legend()\n",
    "from sklearn.metrics import mean_squared_error\n",
    "cost = mean_squared_error(y_test,y_pred)\n",
    "print(f\"{cost=}\")\n",
    "plt.show()"
   ]
  }
 ],
 "metadata": {
  "kernelspec": {
   "display_name": "pyenv",
   "language": "python",
   "name": "python3"
  },
  "language_info": {
   "codemirror_mode": {
    "name": "ipython",
    "version": 3
   },
   "file_extension": ".py",
   "mimetype": "text/x-python",
   "name": "python",
   "nbconvert_exporter": "python",
   "pygments_lexer": "ipython3",
   "version": "3.11.9"
  }
 },
 "nbformat": 4,
 "nbformat_minor": 2
}
