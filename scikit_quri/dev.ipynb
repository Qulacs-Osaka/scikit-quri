{
 "cells": [
  {
   "cell_type": "code",
   "execution_count": 8,
   "metadata": {},
   "outputs": [
    {
     "name": "stdout",
     "output_type": "stream",
     "text": [
      "_Estimate(value=0.9270404554320588, error=0.0)\n"
     ]
    }
   ],
   "source": [
    "import numpy as np\n",
    "from quri_parts.circuit import H, CZ\n",
    "from sklearn.datasets import load_iris, load_digits\n",
    "from sklearn.preprocessing import MinMaxScaler\n",
    "from circuit import LearningCircuit\n",
    "from numpy.typing import NDArray\n",
    "from quri_parts.qulacs.overlap_estimator import create_qulacs_vector_overlap_estimator\n",
    "from quri_parts.core.state import quantum_state, GeneralCircuitQuantumState\n",
    "\n",
    "\n",
    "def create_quantum_circuit():\n",
    "    qc = LearningCircuit(n_qubits)\n",
    "\n",
    "    def preprocess_x(x: NDArray[np.float64], index: int) -> float:\n",
    "        xa = x[index % len(x)]\n",
    "        return min(1, max(-1, xa))\n",
    "\n",
    "    for i in range(n_qubits):\n",
    "        qc.add_gate(H(i))\n",
    "    for d in range(depth):\n",
    "        for i in range(n_qubits):\n",
    "            qc.add_input_RY_gate(i, lambda x, i=i: preprocess_x(x, i))\n",
    "        for i in range(n_qubits):\n",
    "            qc.add_input_RX_gate(i, lambda x, i=i: preprocess_x(x, i))\n",
    "        if d < depth - 1:\n",
    "            for i in range(n_qubits):\n",
    "                qc.add_gate(CZ(i, (i + 1) % n_qubits))\n",
    "    return qc\n",
    "\n",
    "\n",
    "X_train, y_train = load_iris(return_X_y=True)\n",
    "# X_train = X_train / 16.\n",
    "# X_train = X_train[:200]\n",
    "# y_train = y_train[:200] #500 => fidelity 81.6[s]\n",
    "n_qubits = 12\n",
    "depth = 1\n",
    "scaler = MinMaxScaler((0, np.pi / 2))\n",
    "n_qubits = 12\n",
    "depth = 1\n",
    "\n",
    "X_train = scaler.fit_transform(X_train)\n",
    "\n",
    "pqc = create_quantum_circuit()\n",
    "x_0 = pqc.bind_input_and_parameters(X_train[0], [])\n",
    "x_1 = pqc.bind_input_and_parameters(X_train[15], [])\n",
    "estimator = create_qulacs_vector_overlap_estimator()\n",
    "print(\n",
    "    estimator(\n",
    "        quantum_state(n_qubits=n_qubits, circuit=x_0), quantum_state(n_qubits=n_qubits, circuit=x_1)\n",
    "    )\n",
    ")"
   ]
  },
  {
   "cell_type": "code",
   "execution_count": 10,
   "metadata": {},
   "outputs": [
    {
     "name": "stdout",
     "output_type": "stream",
     "text": [
      "[[0.         0.12065636 0.06844121 ... 0.84985485 0.80410116 0.80592477]\n",
      " [0.12065636 0.         0.02461169 ... 0.84485567 0.83054096 0.7926377 ]\n",
      " [0.06844121 0.02461169 0.         ... 0.86451119 0.83848435 0.81397022]\n",
      " ...\n",
      " [0.84985485 0.84485567 0.86451119 ... 0.         0.09282863 0.0760118 ]\n",
      " [0.80410116 0.83054096 0.83848435 ... 0.09282863 0.         0.09130359]\n",
      " [0.80592477 0.7926377  0.81397022 ... 0.0760118  0.09130359 0.        ]]\n"
     ]
    }
   ],
   "source": [
    "sq_distance = np.zeros((len(X_train), len(X_train)))\n",
    "for i in range(len(X_train)):\n",
    "    for j in range(i + 1, len(X_train)):\n",
    "        inner_prod = estimator(\n",
    "            quantum_state(n_qubits=n_qubits, circuit=pqc.bind_input_and_parameters(X_train[i], [])),\n",
    "            quantum_state(n_qubits=n_qubits, circuit=pqc.bind_input_and_parameters(X_train[j], [])),\n",
    "        )\n",
    "        sq_distance[i][j] = 1 - inner_prod[0].real\n",
    "        sq_distance[j][i] = sq_distance[i][j]\n",
    "print(sq_distance)"
   ]
  }
 ],
 "metadata": {
  "kernelspec": {
   "display_name": "pyenv",
   "language": "python",
   "name": "python3"
  },
  "language_info": {
   "codemirror_mode": {
    "name": "ipython",
    "version": 3
   },
   "file_extension": ".py",
   "mimetype": "text/x-python",
   "name": "python",
   "nbconvert_exporter": "python",
   "pygments_lexer": "ipython3",
   "version": "3.11.9"
  }
 },
 "nbformat": 4,
 "nbformat_minor": 2
}
